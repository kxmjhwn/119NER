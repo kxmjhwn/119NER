{
  "nbformat": 4,
  "nbformat_minor": 0,
  "metadata": {
    "accelerator": "GPU",
    "colab": {
      "name": "KoBERT_NER_KMOU_for_119NER (modified).ipynb",
      "provenance": [],
      "collapsed_sections": [],
      "toc_visible": true,
      "include_colab_link": true
    },
    "kernelspec": {
      "display_name": "Python 3",
      "name": "python3"
    },
    "widgets": {
      "application/vnd.jupyter.widget-state+json": {
        "d4dd0807b2874c7fb98f53f4037146d4": {
          "model_module": "@jupyter-widgets/controls",
          "model_name": "HBoxModel",
          "state": {
            "_view_name": "HBoxView",
            "_dom_classes": [],
            "_model_name": "HBoxModel",
            "_view_module": "@jupyter-widgets/controls",
            "_model_module_version": "1.5.0",
            "_view_count": null,
            "_view_module_version": "1.5.0",
            "box_style": "",
            "layout": "IPY_MODEL_699ae1701b96496183b136e5aa117662",
            "_model_module": "@jupyter-widgets/controls",
            "children": [
              "IPY_MODEL_b9a909bf5469477d8e4470b0f7229cbc",
              "IPY_MODEL_8ce28eb2fb944a62a044260a346e6798"
            ]
          }
        },
        "699ae1701b96496183b136e5aa117662": {
          "model_module": "@jupyter-widgets/base",
          "model_name": "LayoutModel",
          "state": {
            "_view_name": "LayoutView",
            "grid_template_rows": null,
            "right": null,
            "justify_content": null,
            "_view_module": "@jupyter-widgets/base",
            "overflow": null,
            "_model_module_version": "1.2.0",
            "_view_count": null,
            "flex_flow": null,
            "width": null,
            "min_width": null,
            "border": null,
            "align_items": null,
            "bottom": null,
            "_model_module": "@jupyter-widgets/base",
            "top": null,
            "grid_column": null,
            "overflow_y": null,
            "overflow_x": null,
            "grid_auto_flow": null,
            "grid_area": null,
            "grid_template_columns": null,
            "flex": null,
            "_model_name": "LayoutModel",
            "justify_items": null,
            "grid_row": null,
            "max_height": null,
            "align_content": null,
            "visibility": null,
            "align_self": null,
            "height": null,
            "min_height": null,
            "padding": null,
            "grid_auto_rows": null,
            "grid_gap": null,
            "max_width": null,
            "order": null,
            "_view_module_version": "1.2.0",
            "grid_template_areas": null,
            "object_position": null,
            "object_fit": null,
            "grid_auto_columns": null,
            "margin": null,
            "display": null,
            "left": null
          }
        },
        "b9a909bf5469477d8e4470b0f7229cbc": {
          "model_module": "@jupyter-widgets/controls",
          "model_name": "FloatProgressModel",
          "state": {
            "_view_name": "ProgressView",
            "style": "IPY_MODEL_1947271c4b524514ab827df10ad471a6",
            "_dom_classes": [],
            "description": "Downloading: 100%",
            "_model_name": "FloatProgressModel",
            "bar_style": "success",
            "max": 371391,
            "_view_module": "@jupyter-widgets/controls",
            "_model_module_version": "1.5.0",
            "value": 371391,
            "_view_count": null,
            "_view_module_version": "1.5.0",
            "orientation": "horizontal",
            "min": 0,
            "description_tooltip": null,
            "_model_module": "@jupyter-widgets/controls",
            "layout": "IPY_MODEL_616b59f930244b7fa8e08990f614f7fe"
          }
        },
        "8ce28eb2fb944a62a044260a346e6798": {
          "model_module": "@jupyter-widgets/controls",
          "model_name": "HTMLModel",
          "state": {
            "_view_name": "HTMLView",
            "style": "IPY_MODEL_2c3a083365324349a8a0bdb434eec4e4",
            "_dom_classes": [],
            "description": "",
            "_model_name": "HTMLModel",
            "placeholder": "​",
            "_view_module": "@jupyter-widgets/controls",
            "_model_module_version": "1.5.0",
            "value": " 371k/371k [00:00&lt;00:00, 529kB/s]",
            "_view_count": null,
            "_view_module_version": "1.5.0",
            "description_tooltip": null,
            "_model_module": "@jupyter-widgets/controls",
            "layout": "IPY_MODEL_26f171a6982449aba6cf6981acb259ec"
          }
        },
        "1947271c4b524514ab827df10ad471a6": {
          "model_module": "@jupyter-widgets/controls",
          "model_name": "ProgressStyleModel",
          "state": {
            "_view_name": "StyleView",
            "_model_name": "ProgressStyleModel",
            "description_width": "initial",
            "_view_module": "@jupyter-widgets/base",
            "_model_module_version": "1.5.0",
            "_view_count": null,
            "_view_module_version": "1.2.0",
            "bar_color": null,
            "_model_module": "@jupyter-widgets/controls"
          }
        },
        "616b59f930244b7fa8e08990f614f7fe": {
          "model_module": "@jupyter-widgets/base",
          "model_name": "LayoutModel",
          "state": {
            "_view_name": "LayoutView",
            "grid_template_rows": null,
            "right": null,
            "justify_content": null,
            "_view_module": "@jupyter-widgets/base",
            "overflow": null,
            "_model_module_version": "1.2.0",
            "_view_count": null,
            "flex_flow": null,
            "width": null,
            "min_width": null,
            "border": null,
            "align_items": null,
            "bottom": null,
            "_model_module": "@jupyter-widgets/base",
            "top": null,
            "grid_column": null,
            "overflow_y": null,
            "overflow_x": null,
            "grid_auto_flow": null,
            "grid_area": null,
            "grid_template_columns": null,
            "flex": null,
            "_model_name": "LayoutModel",
            "justify_items": null,
            "grid_row": null,
            "max_height": null,
            "align_content": null,
            "visibility": null,
            "align_self": null,
            "height": null,
            "min_height": null,
            "padding": null,
            "grid_auto_rows": null,
            "grid_gap": null,
            "max_width": null,
            "order": null,
            "_view_module_version": "1.2.0",
            "grid_template_areas": null,
            "object_position": null,
            "object_fit": null,
            "grid_auto_columns": null,
            "margin": null,
            "display": null,
            "left": null
          }
        },
        "2c3a083365324349a8a0bdb434eec4e4": {
          "model_module": "@jupyter-widgets/controls",
          "model_name": "DescriptionStyleModel",
          "state": {
            "_view_name": "StyleView",
            "_model_name": "DescriptionStyleModel",
            "description_width": "",
            "_view_module": "@jupyter-widgets/base",
            "_model_module_version": "1.5.0",
            "_view_count": null,
            "_view_module_version": "1.2.0",
            "_model_module": "@jupyter-widgets/controls"
          }
        },
        "26f171a6982449aba6cf6981acb259ec": {
          "model_module": "@jupyter-widgets/base",
          "model_name": "LayoutModel",
          "state": {
            "_view_name": "LayoutView",
            "grid_template_rows": null,
            "right": null,
            "justify_content": null,
            "_view_module": "@jupyter-widgets/base",
            "overflow": null,
            "_model_module_version": "1.2.0",
            "_view_count": null,
            "flex_flow": null,
            "width": null,
            "min_width": null,
            "border": null,
            "align_items": null,
            "bottom": null,
            "_model_module": "@jupyter-widgets/base",
            "top": null,
            "grid_column": null,
            "overflow_y": null,
            "overflow_x": null,
            "grid_auto_flow": null,
            "grid_area": null,
            "grid_template_columns": null,
            "flex": null,
            "_model_name": "LayoutModel",
            "justify_items": null,
            "grid_row": null,
            "max_height": null,
            "align_content": null,
            "visibility": null,
            "align_self": null,
            "height": null,
            "min_height": null,
            "padding": null,
            "grid_auto_rows": null,
            "grid_gap": null,
            "max_width": null,
            "order": null,
            "_view_module_version": "1.2.0",
            "grid_template_areas": null,
            "object_position": null,
            "object_fit": null,
            "grid_auto_columns": null,
            "margin": null,
            "display": null,
            "left": null
          }
        },
        "d2ea79ecee0848e39d8b4ea728771283": {
          "model_module": "@jupyter-widgets/controls",
          "model_name": "HBoxModel",
          "state": {
            "_view_name": "HBoxView",
            "_dom_classes": [],
            "_model_name": "HBoxModel",
            "_view_module": "@jupyter-widgets/controls",
            "_model_module_version": "1.5.0",
            "_view_count": null,
            "_view_module_version": "1.5.0",
            "box_style": "",
            "layout": "IPY_MODEL_ba4655e9b7024ce19d4826fd72ea1a6f",
            "_model_module": "@jupyter-widgets/controls",
            "children": [
              "IPY_MODEL_ca64f48656c247988f8ff31536b18d55",
              "IPY_MODEL_8cfdbffe8b834f80826d5063960a2c93"
            ]
          }
        },
        "ba4655e9b7024ce19d4826fd72ea1a6f": {
          "model_module": "@jupyter-widgets/base",
          "model_name": "LayoutModel",
          "state": {
            "_view_name": "LayoutView",
            "grid_template_rows": null,
            "right": null,
            "justify_content": null,
            "_view_module": "@jupyter-widgets/base",
            "overflow": null,
            "_model_module_version": "1.2.0",
            "_view_count": null,
            "flex_flow": null,
            "width": null,
            "min_width": null,
            "border": null,
            "align_items": null,
            "bottom": null,
            "_model_module": "@jupyter-widgets/base",
            "top": null,
            "grid_column": null,
            "overflow_y": null,
            "overflow_x": null,
            "grid_auto_flow": null,
            "grid_area": null,
            "grid_template_columns": null,
            "flex": null,
            "_model_name": "LayoutModel",
            "justify_items": null,
            "grid_row": null,
            "max_height": null,
            "align_content": null,
            "visibility": null,
            "align_self": null,
            "height": null,
            "min_height": null,
            "padding": null,
            "grid_auto_rows": null,
            "grid_gap": null,
            "max_width": null,
            "order": null,
            "_view_module_version": "1.2.0",
            "grid_template_areas": null,
            "object_position": null,
            "object_fit": null,
            "grid_auto_columns": null,
            "margin": null,
            "display": null,
            "left": null
          }
        },
        "ca64f48656c247988f8ff31536b18d55": {
          "model_module": "@jupyter-widgets/controls",
          "model_name": "FloatProgressModel",
          "state": {
            "_view_name": "ProgressView",
            "style": "IPY_MODEL_86097fc8220c49818bf3ddb3f7c1a3e4",
            "_dom_classes": [],
            "description": "Downloading: 100%",
            "_model_name": "FloatProgressModel",
            "bar_style": "success",
            "max": 77779,
            "_view_module": "@jupyter-widgets/controls",
            "_model_module_version": "1.5.0",
            "value": 77779,
            "_view_count": null,
            "_view_module_version": "1.5.0",
            "orientation": "horizontal",
            "min": 0,
            "description_tooltip": null,
            "_model_module": "@jupyter-widgets/controls",
            "layout": "IPY_MODEL_b52ebba2cf504c8890dbc99954bb879b"
          }
        },
        "8cfdbffe8b834f80826d5063960a2c93": {
          "model_module": "@jupyter-widgets/controls",
          "model_name": "HTMLModel",
          "state": {
            "_view_name": "HTMLView",
            "style": "IPY_MODEL_37540e1521344078bf5e5f7e0e6fb617",
            "_dom_classes": [],
            "description": "",
            "_model_name": "HTMLModel",
            "placeholder": "​",
            "_view_module": "@jupyter-widgets/controls",
            "_model_module_version": "1.5.0",
            "value": " 77.8k/77.8k [00:00&lt;00:00, 313kB/s]",
            "_view_count": null,
            "_view_module_version": "1.5.0",
            "description_tooltip": null,
            "_model_module": "@jupyter-widgets/controls",
            "layout": "IPY_MODEL_f9285b4efa6c4897a49316fd3794d155"
          }
        },
        "86097fc8220c49818bf3ddb3f7c1a3e4": {
          "model_module": "@jupyter-widgets/controls",
          "model_name": "ProgressStyleModel",
          "state": {
            "_view_name": "StyleView",
            "_model_name": "ProgressStyleModel",
            "description_width": "initial",
            "_view_module": "@jupyter-widgets/base",
            "_model_module_version": "1.5.0",
            "_view_count": null,
            "_view_module_version": "1.2.0",
            "bar_color": null,
            "_model_module": "@jupyter-widgets/controls"
          }
        },
        "b52ebba2cf504c8890dbc99954bb879b": {
          "model_module": "@jupyter-widgets/base",
          "model_name": "LayoutModel",
          "state": {
            "_view_name": "LayoutView",
            "grid_template_rows": null,
            "right": null,
            "justify_content": null,
            "_view_module": "@jupyter-widgets/base",
            "overflow": null,
            "_model_module_version": "1.2.0",
            "_view_count": null,
            "flex_flow": null,
            "width": null,
            "min_width": null,
            "border": null,
            "align_items": null,
            "bottom": null,
            "_model_module": "@jupyter-widgets/base",
            "top": null,
            "grid_column": null,
            "overflow_y": null,
            "overflow_x": null,
            "grid_auto_flow": null,
            "grid_area": null,
            "grid_template_columns": null,
            "flex": null,
            "_model_name": "LayoutModel",
            "justify_items": null,
            "grid_row": null,
            "max_height": null,
            "align_content": null,
            "visibility": null,
            "align_self": null,
            "height": null,
            "min_height": null,
            "padding": null,
            "grid_auto_rows": null,
            "grid_gap": null,
            "max_width": null,
            "order": null,
            "_view_module_version": "1.2.0",
            "grid_template_areas": null,
            "object_position": null,
            "object_fit": null,
            "grid_auto_columns": null,
            "margin": null,
            "display": null,
            "left": null
          }
        },
        "37540e1521344078bf5e5f7e0e6fb617": {
          "model_module": "@jupyter-widgets/controls",
          "model_name": "DescriptionStyleModel",
          "state": {
            "_view_name": "StyleView",
            "_model_name": "DescriptionStyleModel",
            "description_width": "",
            "_view_module": "@jupyter-widgets/base",
            "_model_module_version": "1.5.0",
            "_view_count": null,
            "_view_module_version": "1.2.0",
            "_model_module": "@jupyter-widgets/controls"
          }
        },
        "f9285b4efa6c4897a49316fd3794d155": {
          "model_module": "@jupyter-widgets/base",
          "model_name": "LayoutModel",
          "state": {
            "_view_name": "LayoutView",
            "grid_template_rows": null,
            "right": null,
            "justify_content": null,
            "_view_module": "@jupyter-widgets/base",
            "overflow": null,
            "_model_module_version": "1.2.0",
            "_view_count": null,
            "flex_flow": null,
            "width": null,
            "min_width": null,
            "border": null,
            "align_items": null,
            "bottom": null,
            "_model_module": "@jupyter-widgets/base",
            "top": null,
            "grid_column": null,
            "overflow_y": null,
            "overflow_x": null,
            "grid_auto_flow": null,
            "grid_area": null,
            "grid_template_columns": null,
            "flex": null,
            "_model_name": "LayoutModel",
            "justify_items": null,
            "grid_row": null,
            "max_height": null,
            "align_content": null,
            "visibility": null,
            "align_self": null,
            "height": null,
            "min_height": null,
            "padding": null,
            "grid_auto_rows": null,
            "grid_gap": null,
            "max_width": null,
            "order": null,
            "_view_module_version": "1.2.0",
            "grid_template_areas": null,
            "object_position": null,
            "object_fit": null,
            "grid_auto_columns": null,
            "margin": null,
            "display": null,
            "left": null
          }
        },
        "bbc7462dddf9429499519ec2f904e279": {
          "model_module": "@jupyter-widgets/controls",
          "model_name": "HBoxModel",
          "state": {
            "_view_name": "HBoxView",
            "_dom_classes": [],
            "_model_name": "HBoxModel",
            "_view_module": "@jupyter-widgets/controls",
            "_model_module_version": "1.5.0",
            "_view_count": null,
            "_view_module_version": "1.5.0",
            "box_style": "",
            "layout": "IPY_MODEL_887b2a5a0ee04214b4740ab7be219560",
            "_model_module": "@jupyter-widgets/controls",
            "children": [
              "IPY_MODEL_5fef5d726e374f11b0f8e2fddf754cc3",
              "IPY_MODEL_3bd226f0d7e54a05a227104ebd9dd5cc"
            ]
          }
        },
        "887b2a5a0ee04214b4740ab7be219560": {
          "model_module": "@jupyter-widgets/base",
          "model_name": "LayoutModel",
          "state": {
            "_view_name": "LayoutView",
            "grid_template_rows": null,
            "right": null,
            "justify_content": null,
            "_view_module": "@jupyter-widgets/base",
            "overflow": null,
            "_model_module_version": "1.2.0",
            "_view_count": null,
            "flex_flow": null,
            "width": null,
            "min_width": null,
            "border": null,
            "align_items": null,
            "bottom": null,
            "_model_module": "@jupyter-widgets/base",
            "top": null,
            "grid_column": null,
            "overflow_y": null,
            "overflow_x": null,
            "grid_auto_flow": null,
            "grid_area": null,
            "grid_template_columns": null,
            "flex": null,
            "_model_name": "LayoutModel",
            "justify_items": null,
            "grid_row": null,
            "max_height": null,
            "align_content": null,
            "visibility": null,
            "align_self": null,
            "height": null,
            "min_height": null,
            "padding": null,
            "grid_auto_rows": null,
            "grid_gap": null,
            "max_width": null,
            "order": null,
            "_view_module_version": "1.2.0",
            "grid_template_areas": null,
            "object_position": null,
            "object_fit": null,
            "grid_auto_columns": null,
            "margin": null,
            "display": null,
            "left": null
          }
        },
        "5fef5d726e374f11b0f8e2fddf754cc3": {
          "model_module": "@jupyter-widgets/controls",
          "model_name": "FloatProgressModel",
          "state": {
            "_view_name": "ProgressView",
            "style": "IPY_MODEL_b5f4cc7db19c477c8995a1313f662a95",
            "_dom_classes": [],
            "description": "Downloading: 100%",
            "_model_name": "FloatProgressModel",
            "bar_style": "success",
            "max": 426,
            "_view_module": "@jupyter-widgets/controls",
            "_model_module_version": "1.5.0",
            "value": 426,
            "_view_count": null,
            "_view_module_version": "1.5.0",
            "orientation": "horizontal",
            "min": 0,
            "description_tooltip": null,
            "_model_module": "@jupyter-widgets/controls",
            "layout": "IPY_MODEL_377128d4deeb4b14b2bdc9ad07f882b7"
          }
        },
        "3bd226f0d7e54a05a227104ebd9dd5cc": {
          "model_module": "@jupyter-widgets/controls",
          "model_name": "HTMLModel",
          "state": {
            "_view_name": "HTMLView",
            "style": "IPY_MODEL_1ea8d0bb36f84590a8adda51c84235ce",
            "_dom_classes": [],
            "description": "",
            "_model_name": "HTMLModel",
            "placeholder": "​",
            "_view_module": "@jupyter-widgets/controls",
            "_model_module_version": "1.5.0",
            "value": " 426/426 [00:00&lt;00:00, 1.20kB/s]",
            "_view_count": null,
            "_view_module_version": "1.5.0",
            "description_tooltip": null,
            "_model_module": "@jupyter-widgets/controls",
            "layout": "IPY_MODEL_6cae8dc1ce604b478bec2d3b027d59f2"
          }
        },
        "b5f4cc7db19c477c8995a1313f662a95": {
          "model_module": "@jupyter-widgets/controls",
          "model_name": "ProgressStyleModel",
          "state": {
            "_view_name": "StyleView",
            "_model_name": "ProgressStyleModel",
            "description_width": "initial",
            "_view_module": "@jupyter-widgets/base",
            "_model_module_version": "1.5.0",
            "_view_count": null,
            "_view_module_version": "1.2.0",
            "bar_color": null,
            "_model_module": "@jupyter-widgets/controls"
          }
        },
        "377128d4deeb4b14b2bdc9ad07f882b7": {
          "model_module": "@jupyter-widgets/base",
          "model_name": "LayoutModel",
          "state": {
            "_view_name": "LayoutView",
            "grid_template_rows": null,
            "right": null,
            "justify_content": null,
            "_view_module": "@jupyter-widgets/base",
            "overflow": null,
            "_model_module_version": "1.2.0",
            "_view_count": null,
            "flex_flow": null,
            "width": null,
            "min_width": null,
            "border": null,
            "align_items": null,
            "bottom": null,
            "_model_module": "@jupyter-widgets/base",
            "top": null,
            "grid_column": null,
            "overflow_y": null,
            "overflow_x": null,
            "grid_auto_flow": null,
            "grid_area": null,
            "grid_template_columns": null,
            "flex": null,
            "_model_name": "LayoutModel",
            "justify_items": null,
            "grid_row": null,
            "max_height": null,
            "align_content": null,
            "visibility": null,
            "align_self": null,
            "height": null,
            "min_height": null,
            "padding": null,
            "grid_auto_rows": null,
            "grid_gap": null,
            "max_width": null,
            "order": null,
            "_view_module_version": "1.2.0",
            "grid_template_areas": null,
            "object_position": null,
            "object_fit": null,
            "grid_auto_columns": null,
            "margin": null,
            "display": null,
            "left": null
          }
        },
        "1ea8d0bb36f84590a8adda51c84235ce": {
          "model_module": "@jupyter-widgets/controls",
          "model_name": "DescriptionStyleModel",
          "state": {
            "_view_name": "StyleView",
            "_model_name": "DescriptionStyleModel",
            "description_width": "",
            "_view_module": "@jupyter-widgets/base",
            "_model_module_version": "1.5.0",
            "_view_count": null,
            "_view_module_version": "1.2.0",
            "_model_module": "@jupyter-widgets/controls"
          }
        },
        "6cae8dc1ce604b478bec2d3b027d59f2": {
          "model_module": "@jupyter-widgets/base",
          "model_name": "LayoutModel",
          "state": {
            "_view_name": "LayoutView",
            "grid_template_rows": null,
            "right": null,
            "justify_content": null,
            "_view_module": "@jupyter-widgets/base",
            "overflow": null,
            "_model_module_version": "1.2.0",
            "_view_count": null,
            "flex_flow": null,
            "width": null,
            "min_width": null,
            "border": null,
            "align_items": null,
            "bottom": null,
            "_model_module": "@jupyter-widgets/base",
            "top": null,
            "grid_column": null,
            "overflow_y": null,
            "overflow_x": null,
            "grid_auto_flow": null,
            "grid_area": null,
            "grid_template_columns": null,
            "flex": null,
            "_model_name": "LayoutModel",
            "justify_items": null,
            "grid_row": null,
            "max_height": null,
            "align_content": null,
            "visibility": null,
            "align_self": null,
            "height": null,
            "min_height": null,
            "padding": null,
            "grid_auto_rows": null,
            "grid_gap": null,
            "max_width": null,
            "order": null,
            "_view_module_version": "1.2.0",
            "grid_template_areas": null,
            "object_position": null,
            "object_fit": null,
            "grid_auto_columns": null,
            "margin": null,
            "display": null,
            "left": null
          }
        },
        "07770833fc9742918eb4dc53d00551d0": {
          "model_module": "@jupyter-widgets/controls",
          "model_name": "HBoxModel",
          "state": {
            "_view_name": "HBoxView",
            "_dom_classes": [],
            "_model_name": "HBoxModel",
            "_view_module": "@jupyter-widgets/controls",
            "_model_module_version": "1.5.0",
            "_view_count": null,
            "_view_module_version": "1.5.0",
            "box_style": "",
            "layout": "IPY_MODEL_8defb4a6416b4156a385de7adac2de32",
            "_model_module": "@jupyter-widgets/controls",
            "children": [
              "IPY_MODEL_4b44dc00586b451db33d5ce84d2c1f27",
              "IPY_MODEL_9406df228f4f4c0c81583ad6e756dbb1"
            ]
          }
        },
        "8defb4a6416b4156a385de7adac2de32": {
          "model_module": "@jupyter-widgets/base",
          "model_name": "LayoutModel",
          "state": {
            "_view_name": "LayoutView",
            "grid_template_rows": null,
            "right": null,
            "justify_content": null,
            "_view_module": "@jupyter-widgets/base",
            "overflow": null,
            "_model_module_version": "1.2.0",
            "_view_count": null,
            "flex_flow": null,
            "width": null,
            "min_width": null,
            "border": null,
            "align_items": null,
            "bottom": null,
            "_model_module": "@jupyter-widgets/base",
            "top": null,
            "grid_column": null,
            "overflow_y": null,
            "overflow_x": null,
            "grid_auto_flow": null,
            "grid_area": null,
            "grid_template_columns": null,
            "flex": null,
            "_model_name": "LayoutModel",
            "justify_items": null,
            "grid_row": null,
            "max_height": null,
            "align_content": null,
            "visibility": null,
            "align_self": null,
            "height": null,
            "min_height": null,
            "padding": null,
            "grid_auto_rows": null,
            "grid_gap": null,
            "max_width": null,
            "order": null,
            "_view_module_version": "1.2.0",
            "grid_template_areas": null,
            "object_position": null,
            "object_fit": null,
            "grid_auto_columns": null,
            "margin": null,
            "display": null,
            "left": null
          }
        },
        "4b44dc00586b451db33d5ce84d2c1f27": {
          "model_module": "@jupyter-widgets/controls",
          "model_name": "FloatProgressModel",
          "state": {
            "_view_name": "ProgressView",
            "style": "IPY_MODEL_a9aa9480c6ff41c796472b91b5a21b45",
            "_dom_classes": [],
            "description": "Downloading: 100%",
            "_model_name": "FloatProgressModel",
            "bar_style": "success",
            "max": 368792146,
            "_view_module": "@jupyter-widgets/controls",
            "_model_module_version": "1.5.0",
            "value": 368792146,
            "_view_count": null,
            "_view_module_version": "1.5.0",
            "orientation": "horizontal",
            "min": 0,
            "description_tooltip": null,
            "_model_module": "@jupyter-widgets/controls",
            "layout": "IPY_MODEL_ce2d43d9d67040979c5144347ef1052c"
          }
        },
        "9406df228f4f4c0c81583ad6e756dbb1": {
          "model_module": "@jupyter-widgets/controls",
          "model_name": "HTMLModel",
          "state": {
            "_view_name": "HTMLView",
            "style": "IPY_MODEL_55304274e2f740c69a912d975c40e9f4",
            "_dom_classes": [],
            "description": "",
            "_model_name": "HTMLModel",
            "placeholder": "​",
            "_view_module": "@jupyter-widgets/controls",
            "_model_module_version": "1.5.0",
            "value": " 369M/369M [00:44&lt;00:00, 8.23MB/s]",
            "_view_count": null,
            "_view_module_version": "1.5.0",
            "description_tooltip": null,
            "_model_module": "@jupyter-widgets/controls",
            "layout": "IPY_MODEL_0fc99ca1dd4b425c9c12d1c51ea1fe38"
          }
        },
        "a9aa9480c6ff41c796472b91b5a21b45": {
          "model_module": "@jupyter-widgets/controls",
          "model_name": "ProgressStyleModel",
          "state": {
            "_view_name": "StyleView",
            "_model_name": "ProgressStyleModel",
            "description_width": "initial",
            "_view_module": "@jupyter-widgets/base",
            "_model_module_version": "1.5.0",
            "_view_count": null,
            "_view_module_version": "1.2.0",
            "bar_color": null,
            "_model_module": "@jupyter-widgets/controls"
          }
        },
        "ce2d43d9d67040979c5144347ef1052c": {
          "model_module": "@jupyter-widgets/base",
          "model_name": "LayoutModel",
          "state": {
            "_view_name": "LayoutView",
            "grid_template_rows": null,
            "right": null,
            "justify_content": null,
            "_view_module": "@jupyter-widgets/base",
            "overflow": null,
            "_model_module_version": "1.2.0",
            "_view_count": null,
            "flex_flow": null,
            "width": null,
            "min_width": null,
            "border": null,
            "align_items": null,
            "bottom": null,
            "_model_module": "@jupyter-widgets/base",
            "top": null,
            "grid_column": null,
            "overflow_y": null,
            "overflow_x": null,
            "grid_auto_flow": null,
            "grid_area": null,
            "grid_template_columns": null,
            "flex": null,
            "_model_name": "LayoutModel",
            "justify_items": null,
            "grid_row": null,
            "max_height": null,
            "align_content": null,
            "visibility": null,
            "align_self": null,
            "height": null,
            "min_height": null,
            "padding": null,
            "grid_auto_rows": null,
            "grid_gap": null,
            "max_width": null,
            "order": null,
            "_view_module_version": "1.2.0",
            "grid_template_areas": null,
            "object_position": null,
            "object_fit": null,
            "grid_auto_columns": null,
            "margin": null,
            "display": null,
            "left": null
          }
        },
        "55304274e2f740c69a912d975c40e9f4": {
          "model_module": "@jupyter-widgets/controls",
          "model_name": "DescriptionStyleModel",
          "state": {
            "_view_name": "StyleView",
            "_model_name": "DescriptionStyleModel",
            "description_width": "",
            "_view_module": "@jupyter-widgets/base",
            "_model_module_version": "1.5.0",
            "_view_count": null,
            "_view_module_version": "1.2.0",
            "_model_module": "@jupyter-widgets/controls"
          }
        },
        "0fc99ca1dd4b425c9c12d1c51ea1fe38": {
          "model_module": "@jupyter-widgets/base",
          "model_name": "LayoutModel",
          "state": {
            "_view_name": "LayoutView",
            "grid_template_rows": null,
            "right": null,
            "justify_content": null,
            "_view_module": "@jupyter-widgets/base",
            "overflow": null,
            "_model_module_version": "1.2.0",
            "_view_count": null,
            "flex_flow": null,
            "width": null,
            "min_width": null,
            "border": null,
            "align_items": null,
            "bottom": null,
            "_model_module": "@jupyter-widgets/base",
            "top": null,
            "grid_column": null,
            "overflow_y": null,
            "overflow_x": null,
            "grid_auto_flow": null,
            "grid_area": null,
            "grid_template_columns": null,
            "flex": null,
            "_model_name": "LayoutModel",
            "justify_items": null,
            "grid_row": null,
            "max_height": null,
            "align_content": null,
            "visibility": null,
            "align_self": null,
            "height": null,
            "min_height": null,
            "padding": null,
            "grid_auto_rows": null,
            "grid_gap": null,
            "max_width": null,
            "order": null,
            "_view_module_version": "1.2.0",
            "grid_template_areas": null,
            "object_position": null,
            "object_fit": null,
            "grid_auto_columns": null,
            "margin": null,
            "display": null,
            "left": null
          }
        }
      }
    }
  },
  "cells": [
    {
      "cell_type": "markdown",
      "metadata": {
        "id": "view-in-github",
        "colab_type": "text"
      },
      "source": [
        "<a href=\"https://colab.research.google.com/github/kxmjhwn/119NER/blob/main/KoBERT_NER_KMOU_for_119NER_(modified).ipynb\" target=\"_parent\"><img src=\"https://colab.research.google.com/assets/colab-badge.svg\" alt=\"Open In Colab\"/></a>"
      ]
    },
    {
      "cell_type": "markdown",
      "metadata": {
        "id": "U4RPsZP60_QG"
      },
      "source": [
        "## **구글 드라이브와 연동 및 경로설정**"
      ]
    },
    {
      "cell_type": "code",
      "metadata": {
        "id": "HKB0GTLlzSLw",
        "colab": {
          "base_uri": "https://localhost:8080/"
        },
        "outputId": "ba1993e0-f22d-44d4-e206-2478f354b8d6"
      },
      "source": [
        "from google.colab import drive\n",
        "drive.mount('/content/drive')"
      ],
      "execution_count": null,
      "outputs": [
        {
          "output_type": "stream",
          "text": [
            "Mounted at /content/drive\n"
          ],
          "name": "stdout"
        }
      ]
    },
    {
      "cell_type": "code",
      "metadata": {
        "id": "OjI5sBNGXIb5",
        "colab": {
          "base_uri": "https://localhost:8080/"
        },
        "outputId": "65b9140b-fdec-413d-be39-9c2b66b05616"
      },
      "source": [
        "# KoBERT tokenizer import하기 위한 경로 추가 설정\n",
        "import sys\n",
        "sys.path.append('/content/drive/My Drive/Colab Notebooks/119NER/119NER-main')\n",
        "print(sys.path)"
      ],
      "execution_count": null,
      "outputs": [
        {
          "output_type": "stream",
          "text": [
            "['', '/content', '/env/python', '/usr/lib/python37.zip', '/usr/lib/python3.7', '/usr/lib/python3.7/lib-dynload', '/usr/local/lib/python3.7/dist-packages', '/usr/lib/python3/dist-packages', '/usr/local/lib/python3.7/dist-packages/IPython/extensions', '/root/.ipython', '/content/drive/My Drive/Colab Notebooks/119NER/119NER-main']\n"
          ],
          "name": "stdout"
        }
      ]
    },
    {
      "cell_type": "markdown",
      "metadata": {
        "id": "P58qy4--s5_x"
      },
      "source": [
        "<br>\n",
        "\n",
        "# **KoBERT 기반 119NER 모델 구현**\n",
        "BERT의 다국어 모델인 BERT-multilingual 모델에 한국어를 추가 학습한 SK T-Brain KoBERT를 기반으로한 모델 구현입니다.\n"
      ]
    },
    {
      "cell_type": "markdown",
      "metadata": {
        "id": "i45d7E0L8bZ_"
      },
      "source": [
        "<br>\n",
        "<br>\n",
        "\n",
        "# **install & import**\n",
        "tranformers 버전이 최근 갱신되며 기존 코드가 적용되지 않는 오류가 있습니다.\n",
        "<br>\n",
        "따라서 3.4.0 버전으로 install을 진행합니다."
      ]
    },
    {
      "cell_type": "code",
      "metadata": {
        "colab": {
          "base_uri": "https://localhost:8080/"
        },
        "id": "K-WmVQ_Qjlmf",
        "outputId": "80dc3951-d051-424c-f31c-87deb6cd781c"
      },
      "source": [
        "!pip install \"transformers==3.4.0\""
      ],
      "execution_count": null,
      "outputs": [
        {
          "output_type": "stream",
          "text": [
            "Collecting transformers==3.4.0\n",
            "\u001b[?25l  Downloading https://files.pythonhosted.org/packages/2c/4e/4f1ede0fd7a36278844a277f8d53c21f88f37f3754abf76a5d6224f76d4a/transformers-3.4.0-py3-none-any.whl (1.3MB)\n",
            "\u001b[K     |████████████████████████████████| 1.3MB 7.4MB/s \n",
            "\u001b[?25hCollecting tokenizers==0.9.2\n",
            "\u001b[?25l  Downloading https://files.pythonhosted.org/packages/35/e7/edf655ae34925aeaefb7b7fcc3dd0887d2a1203ee6b0df4d1170d1a19d4f/tokenizers-0.9.2-cp37-cp37m-manylinux1_x86_64.whl (2.9MB)\n",
            "\u001b[K     |████████████████████████████████| 2.9MB 27.9MB/s \n",
            "\u001b[?25hRequirement already satisfied: protobuf in /usr/local/lib/python3.7/dist-packages (from transformers==3.4.0) (3.12.4)\n",
            "Requirement already satisfied: numpy in /usr/local/lib/python3.7/dist-packages (from transformers==3.4.0) (1.19.5)\n",
            "Collecting sentencepiece!=0.1.92\n",
            "\u001b[?25l  Downloading https://files.pythonhosted.org/packages/f5/99/e0808cb947ba10f575839c43e8fafc9cc44e4a7a2c8f79c60db48220a577/sentencepiece-0.1.95-cp37-cp37m-manylinux2014_x86_64.whl (1.2MB)\n",
            "\u001b[K     |████████████████████████████████| 1.2MB 49.2MB/s \n",
            "\u001b[?25hRequirement already satisfied: requests in /usr/local/lib/python3.7/dist-packages (from transformers==3.4.0) (2.23.0)\n",
            "Requirement already satisfied: regex!=2019.12.17 in /usr/local/lib/python3.7/dist-packages (from transformers==3.4.0) (2019.12.20)\n",
            "Requirement already satisfied: tqdm>=4.27 in /usr/local/lib/python3.7/dist-packages (from transformers==3.4.0) (4.41.1)\n",
            "Collecting sacremoses\n",
            "\u001b[?25l  Downloading https://files.pythonhosted.org/packages/08/cd/342e584ee544d044fb573ae697404ce22ede086c9e87ce5960772084cad0/sacremoses-0.0.44.tar.gz (862kB)\n",
            "\u001b[K     |████████████████████████████████| 870kB 42.1MB/s \n",
            "\u001b[?25hRequirement already satisfied: filelock in /usr/local/lib/python3.7/dist-packages (from transformers==3.4.0) (3.0.12)\n",
            "Requirement already satisfied: packaging in /usr/local/lib/python3.7/dist-packages (from transformers==3.4.0) (20.9)\n",
            "Requirement already satisfied: six>=1.9 in /usr/local/lib/python3.7/dist-packages (from protobuf->transformers==3.4.0) (1.15.0)\n",
            "Requirement already satisfied: setuptools in /usr/local/lib/python3.7/dist-packages (from protobuf->transformers==3.4.0) (54.2.0)\n",
            "Requirement already satisfied: idna<3,>=2.5 in /usr/local/lib/python3.7/dist-packages (from requests->transformers==3.4.0) (2.10)\n",
            "Requirement already satisfied: urllib3!=1.25.0,!=1.25.1,<1.26,>=1.21.1 in /usr/local/lib/python3.7/dist-packages (from requests->transformers==3.4.0) (1.24.3)\n",
            "Requirement already satisfied: certifi>=2017.4.17 in /usr/local/lib/python3.7/dist-packages (from requests->transformers==3.4.0) (2020.12.5)\n",
            "Requirement already satisfied: chardet<4,>=3.0.2 in /usr/local/lib/python3.7/dist-packages (from requests->transformers==3.4.0) (3.0.4)\n",
            "Requirement already satisfied: click in /usr/local/lib/python3.7/dist-packages (from sacremoses->transformers==3.4.0) (7.1.2)\n",
            "Requirement already satisfied: joblib in /usr/local/lib/python3.7/dist-packages (from sacremoses->transformers==3.4.0) (1.0.1)\n",
            "Requirement already satisfied: pyparsing>=2.0.2 in /usr/local/lib/python3.7/dist-packages (from packaging->transformers==3.4.0) (2.4.7)\n",
            "Building wheels for collected packages: sacremoses\n",
            "  Building wheel for sacremoses (setup.py) ... \u001b[?25l\u001b[?25hdone\n",
            "  Created wheel for sacremoses: filename=sacremoses-0.0.44-cp37-none-any.whl size=886084 sha256=4f13a822de1f2b1c69d34c2a681458529de76750dc28f99abf9b44cc3a1b8b4b\n",
            "  Stored in directory: /root/.cache/pip/wheels/3e/fb/c0/13ab4d63d537658f448366744654323077c4d90069b6512f3c\n",
            "Successfully built sacremoses\n",
            "Installing collected packages: tokenizers, sentencepiece, sacremoses, transformers\n",
            "Successfully installed sacremoses-0.0.44 sentencepiece-0.1.95 tokenizers-0.9.2 transformers-3.4.0\n"
          ],
          "name": "stdout"
        }
      ]
    },
    {
      "cell_type": "code",
      "metadata": {
        "id": "75dIz2fNWG8F"
      },
      "source": [
        "import tensorflow as tf\n",
        "import torch\n",
        "import re\n",
        "import pprint\n",
        "import transformers\n",
        "from transformers import BertModel\n",
        "from transformers import BertTokenizer\n",
        "import transformers.modeling_bert\n",
        "from tokenization_kobert import KoBertTokenizer\n",
        "from transformers import BertForTokenClassification, AdamW, BertConfig\n",
        "from transformers import get_linear_schedule_with_warmup\n",
        "from torch.utils.data import TensorDataset, DataLoader, RandomSampler, SequentialSampler\n",
        "from keras.preprocessing.sequence import pad_sequences\n",
        "from sklearn.model_selection import train_test_split\n",
        "import pandas as pd\n",
        "import numpy as np\n",
        "import random\n",
        "import time\n",
        "import datetime"
      ],
      "execution_count": null,
      "outputs": []
    },
    {
      "cell_type": "markdown",
      "metadata": {
        "id": "h_U3uMySBCIV"
      },
      "source": [
        "<br>\n",
        "<br>\n",
        "\n",
        "# **데이터 로드**"
      ]
    },
    {
      "cell_type": "markdown",
      "metadata": {
        "id": "RNWLrmTw_9Mr"
      },
      "source": [
        "\n",
        "\n",
        "*   데이터 수집은 한국해양대학교 개체명 코퍼스에서 input, target 각각 약 21000 문장씩 파싱했으며 Training set으로 약 17000문장, Vaildation set으로 약 4000문장을 선정했습니다.\n",
        "*   119 신고 도메인에 맞추기 위해 '피해 유형'을 나타내는 <EMR> 태그를 부착한 문장 데이터를 추가로 약 1000개 구축했습니다.\n",
        "\n",
        "\n"
      ]
    },
    {
      "cell_type": "markdown",
      "metadata": {
        "id": "lCUB3UBZ0DvB"
      },
      "source": [
        "### **Input, target 데이터 load**"
      ]
    },
    {
      "cell_type": "code",
      "metadata": {
        "colab": {
          "base_uri": "https://localhost:8080/"
        },
        "id": "Jbs_izHYV7JP",
        "outputId": "e6ddf09f-bedd-4e06-f14a-0dbc298a482e"
      },
      "source": [
        "with open(\"drive/My Drive/Colab Notebooks/119NER/119NER-main/final_input_new_data_for_AI_201130.txt\", 'r') as f : \n",
        "    input_list = f.readlines()\n",
        "    \n",
        "print(\"--예시--\")\n",
        "print(input_list[0:1], \"\\n 총 문장 수 : \", len(input_list))"
      ],
      "execution_count": null,
      "outputs": [
        {
          "output_type": "stream",
          "text": [
            "--예시--\n",
            "['여기서 우투수는 우타자를 상대로 0.279, 좌타자를 상대로 0.286의 피안타율을 기록했다.\\n'] \n",
            " 총 문장 수 :  18186\n"
          ],
          "name": "stdout"
        }
      ]
    },
    {
      "cell_type": "code",
      "metadata": {
        "colab": {
          "base_uri": "https://localhost:8080/"
        },
        "id": "U4RvMI4ZWL2W",
        "outputId": "d86d06eb-d655-47ee-ceba-b9314f533812"
      },
      "source": [
        "with open(\"drive/My Drive/Colab Notebooks/119NER/119NER-main/final_target_new_data_for_AI_201130.txt\", 'r') as f : \n",
        "    target_list = f.readlines()\n",
        "    \n",
        "print(\"--예시--\")\n",
        "print(target_list[0:1], \"\\n 총 문장 수 : \", len(target_list))"
      ],
      "execution_count": null,
      "outputs": [
        {
          "output_type": "stream",
          "text": [
            "--예시--\n",
            "['여기서 우투수는 우타자를 상대로 <0.279:PNT>, 좌타자를 상대로 <0.286:PNT>의 피안타율을 기록했다.\\n'] \n",
            " 총 문장 수 :  18186\n"
          ],
          "name": "stdout"
        }
      ]
    },
    {
      "cell_type": "markdown",
      "metadata": {
        "id": "BQ8aqiq_xBYo"
      },
      "source": [
        "## **데이터 전처리 : Input용**\n",
        "BERT의 Transformer 알고리즘 구조에 맞추기 위해 input 데이터를 전처리하는 과정입니다."
      ]
    },
    {
      "cell_type": "markdown",
      "metadata": {
        "id": "NYyqXX_ZE-ZL"
      },
      "source": [
        "#### **SentencePiece tokenizing, Embedding, Padding, Attention masks** \n",
        "SentencePiece tokennizing과 임베딩, 패딩 작업을 수행합니다.\n",
        "<br>\n",
        "또한, Attention masks를 생성합니다. 이는 학습 시간의 효율을 위해 패딩된 부분을 Attention 구조에 통과시키지 않도록 하는 역할을 합니다."
      ]
    },
    {
      "cell_type": "code",
      "metadata": {
        "id": "UTRZTSec_lfl"
      },
      "source": [
        "def preprocessing_input(input_list):\n",
        "\n",
        "  # CLS와 SEP토큰 부착\n",
        "  text_CLS = [\"[CLS] \" + str(txt) + \" [SEP]\" for txt in input_list]\n",
        "\n",
        "  # 토크나이저 정의 및 토크나이징\n",
        "  tokenizer = KoBertTokenizer.from_pretrained('monologg/kobert')\n",
        "  tokenized_texts = [tokenizer.tokenize(txt) for txt in text_CLS]\n",
        "\n",
        "  # 토큰 임베딩 수행\n",
        "  input_ids = [tokenizer.convert_tokens_to_ids(x) for x in tokenized_texts] \n",
        "\n",
        "  # 입력 토큰의 최대 시퀀스 길이\n",
        "  MAX_LEN = 128\n",
        "\n",
        "  # 패딩 수행 : 문장을 MAX_LEN 길이에 맞게 자르고, 모자란 부분을 패딩 0으로 채움 \n",
        "  input_ids = pad_sequences(input_ids, maxlen=MAX_LEN, dtype=\"long\", truncating=\"post\", padding=\"post\")\n",
        "\n",
        "  # 어텐션 마스크 초기화\n",
        "  attention_masks = []\n",
        "\n",
        "  # 어텐션 마스크, 값이 있다면 1, 패딩 부분이면 0으로 설정\n",
        "  # 패딩 부분은 BERT 모델에서 어텐션을 수행하지 않아 속도 향상\n",
        "  for seq in input_ids:\n",
        "      seq_mask = [float(i>0) for i in seq]\n",
        "      attention_masks.append(seq_mask)\n",
        " \n",
        "  return input_ids, attention_masks, tokenized_texts"
      ],
      "execution_count": null,
      "outputs": []
    },
    {
      "cell_type": "code",
      "metadata": {
        "id": "HIOtNYc8oyI5",
        "colab": {
          "base_uri": "https://localhost:8080/",
          "height": 117,
          "referenced_widgets": [
            "d4dd0807b2874c7fb98f53f4037146d4",
            "699ae1701b96496183b136e5aa117662",
            "b9a909bf5469477d8e4470b0f7229cbc",
            "8ce28eb2fb944a62a044260a346e6798",
            "1947271c4b524514ab827df10ad471a6",
            "616b59f930244b7fa8e08990f614f7fe",
            "2c3a083365324349a8a0bdb434eec4e4",
            "26f171a6982449aba6cf6981acb259ec",
            "d2ea79ecee0848e39d8b4ea728771283",
            "ba4655e9b7024ce19d4826fd72ea1a6f",
            "ca64f48656c247988f8ff31536b18d55",
            "8cfdbffe8b834f80826d5063960a2c93",
            "86097fc8220c49818bf3ddb3f7c1a3e4",
            "b52ebba2cf504c8890dbc99954bb879b",
            "37540e1521344078bf5e5f7e0e6fb617",
            "f9285b4efa6c4897a49316fd3794d155"
          ]
        },
        "outputId": "f4a437a4-e453-4b04-bd06-17f922171e6c"
      },
      "source": [
        "input_ids, attention_masks, tokenized_text = preprocessing_input(input_list)"
      ],
      "execution_count": null,
      "outputs": [
        {
          "output_type": "display_data",
          "data": {
            "application/vnd.jupyter.widget-view+json": {
              "model_id": "d4dd0807b2874c7fb98f53f4037146d4",
              "version_minor": 0,
              "version_major": 2
            },
            "text/plain": [
              "HBox(children=(FloatProgress(value=0.0, description='Downloading', max=371391.0, style=ProgressStyle(descripti…"
            ]
          },
          "metadata": {
            "tags": []
          }
        },
        {
          "output_type": "stream",
          "text": [
            "\n"
          ],
          "name": "stdout"
        },
        {
          "output_type": "display_data",
          "data": {
            "application/vnd.jupyter.widget-view+json": {
              "model_id": "d2ea79ecee0848e39d8b4ea728771283",
              "version_minor": 0,
              "version_major": 2
            },
            "text/plain": [
              "HBox(children=(FloatProgress(value=0.0, description='Downloading', max=77779.0, style=ProgressStyle(descriptio…"
            ]
          },
          "metadata": {
            "tags": []
          }
        },
        {
          "output_type": "stream",
          "text": [
            "\n"
          ],
          "name": "stdout"
        }
      ]
    },
    {
      "cell_type": "code",
      "metadata": {
        "colab": {
          "base_uri": "https://localhost:8080/"
        },
        "id": "InFsDJRkcJ77",
        "outputId": "12ad063c-9d15-47b0-d5d5-49f540abccb1"
      },
      "source": [
        "print(\"input_ids\\n\",input_ids[0:1])"
      ],
      "execution_count": null,
      "outputs": [
        {
          "output_type": "stream",
          "text": [
            "input_ids\n",
            " [[   2 3301 6553 3498 7643 5760 3498 7587 6116 2665  527  218   46 4211\n",
            "  7587 6116 2665  527  230 7095  517 7770 7071 1277   54    3    0    0\n",
            "     0    0    0    0    0    0    0    0    0    0    0    0    0    0\n",
            "     0    0    0    0    0    0    0    0    0    0    0    0    0    0\n",
            "     0    0    0    0    0    0    0    0    0    0    0    0    0    0\n",
            "     0    0    0    0    0    0    0    0    0    0    0    0    0    0\n",
            "     0    0    0    0    0    0    0    0    0    0    0    0    0    0\n",
            "     0    0    0    0    0    0    0    0    0    0    0    0    0    0\n",
            "     0    0    0    0    0    0    0    0    0    0    0    0    0    0\n",
            "     0    0]]\n"
          ],
          "name": "stdout"
        }
      ]
    },
    {
      "cell_type": "code",
      "metadata": {
        "colab": {
          "base_uri": "https://localhost:8080/"
        },
        "id": "8CRVVBCb8-vu",
        "outputId": "b68fa8c9-2f5e-4018-e999-24e467cb301b"
      },
      "source": [
        "print(\"attention_masks\\n\",attention_masks[0:1])"
      ],
      "execution_count": null,
      "outputs": [
        {
          "output_type": "stream",
          "text": [
            "attention_masks\n",
            " [[1.0, 1.0, 1.0, 1.0, 1.0, 1.0, 1.0, 1.0, 1.0, 1.0, 1.0, 1.0, 1.0, 1.0, 1.0, 1.0, 1.0, 1.0, 1.0, 1.0, 1.0, 1.0, 1.0, 1.0, 1.0, 1.0, 0.0, 0.0, 0.0, 0.0, 0.0, 0.0, 0.0, 0.0, 0.0, 0.0, 0.0, 0.0, 0.0, 0.0, 0.0, 0.0, 0.0, 0.0, 0.0, 0.0, 0.0, 0.0, 0.0, 0.0, 0.0, 0.0, 0.0, 0.0, 0.0, 0.0, 0.0, 0.0, 0.0, 0.0, 0.0, 0.0, 0.0, 0.0, 0.0, 0.0, 0.0, 0.0, 0.0, 0.0, 0.0, 0.0, 0.0, 0.0, 0.0, 0.0, 0.0, 0.0, 0.0, 0.0, 0.0, 0.0, 0.0, 0.0, 0.0, 0.0, 0.0, 0.0, 0.0, 0.0, 0.0, 0.0, 0.0, 0.0, 0.0, 0.0, 0.0, 0.0, 0.0, 0.0, 0.0, 0.0, 0.0, 0.0, 0.0, 0.0, 0.0, 0.0, 0.0, 0.0, 0.0, 0.0, 0.0, 0.0, 0.0, 0.0, 0.0, 0.0, 0.0, 0.0, 0.0, 0.0, 0.0, 0.0, 0.0, 0.0, 0.0, 0.0]]\n"
          ],
          "name": "stdout"
        }
      ]
    },
    {
      "cell_type": "code",
      "metadata": {
        "colab": {
          "base_uri": "https://localhost:8080/"
        },
        "id": "A1qV5mji8-0I",
        "outputId": "8c11f8b9-dac9-4520-c05a-103ad808a429"
      },
      "source": [
        "print(\"tokenized_text\\n\",tokenized_text[0:1])"
      ],
      "execution_count": null,
      "outputs": [
        {
          "output_type": "stream",
          "text": [
            "tokenized_text\n",
            " [['[CLS]', '▁여기', '서', '▁우', '투수', '는', '▁우', '타자', '를', '▁상대로', '▁0.2', '79', ',', '▁좌', '타자', '를', '▁상대로', '▁0.2', '86', '의', '▁', '피안타', '율을', '▁기록했다', '.', '[SEP]']]\n"
          ],
          "name": "stdout"
        }
      ]
    },
    {
      "cell_type": "markdown",
      "metadata": {
        "id": "jBp4BaBX3ao1"
      },
      "source": [
        "# **데이터 전처리 : Target용** (!중요!)\n",
        "\n"
      ]
    },
    {
      "cell_type": "markdown",
      "metadata": {
        "id": "nSPE29dW3tCc"
      },
      "source": [
        "#### **SentencePiece tokenizing**\n",
        "input data와 동일하게 SentencePiece tokenizing을 진행합니다."
      ]
    },
    {
      "cell_type": "code",
      "metadata": {
        "id": "VflI3tV918D-"
      },
      "source": [
        "def preprocessing_target(input_list, target_list):\n",
        "  \n",
        "  # 토크나이저 정의 및 토크나이징\n",
        "  tokenizer = KoBertTokenizer.from_pretrained('monologg/kobert')\n",
        "  tokenized_target_text = [tokenizer.tokenize(text_temp) for text_temp in target_list]\n",
        "\n",
        "  # CLS, SEP가 부착되지 않은 input 데이터\n",
        "  tokenized_texts_withoutCLS = [tokenizer.tokenize(text) for text in input_list]\n",
        "\n",
        "\n",
        "  # input_list를 기준으로 target_list를 비교하며 본격적인 전처리 수행 -- (a)\n",
        "\n",
        "  # convert_target_to_string()\n",
        "  result_target_list = convert_target_to_string(tokenized_target_text)\n",
        "\n",
        "  # searching_boundary()\n",
        "  prefix_sum_of_token_start_index_list, list_of_ner_tag_list, list_of_ner_text_list, list_of_tuple_ner_start_end_list = searching_boundary(tokenized_texts_withoutCLS, result_target_list)\n",
        "  \n",
        "  # tagging_label()\n",
        "  list_of_ner_label_list = tagging_label(tokenized_texts_withoutCLS, prefix_sum_of_token_start_index_list, list_of_ner_tag_list, list_of_ner_text_list, list_of_tuple_ner_start_end_list)\n",
        "  \n",
        "  # tagging_label()\n",
        "  ner_label_list_result = append_CLS_SEP(list_of_ner_label_list)\n",
        "  \n",
        "  # 각 함수로 인한 결과가 어떻게 보여지는지 확인하기 위해 반환 값에 모든 list를 추가함\n",
        "  return ner_label_list_result, tokenized_target_text, result_target_list, prefix_sum_of_token_start_index_list, list_of_ner_tag_list, list_of_ner_text_list, list_of_tuple_ner_start_end_list, list_of_ner_label_list"
      ],
      "execution_count": null,
      "outputs": []
    },
    {
      "cell_type": "markdown",
      "metadata": {
        "id": "tQrOZs-a1i7k"
      },
      "source": [
        "#### **Tokenized input text에 대응되는 개체명 테그셋 만들기**\n",
        "Input에 대한 각각 토큰과 Target의 개체명 태그를 맞춰주는 작업입니다."
      ]
    },
    {
      "cell_type": "markdown",
      "metadata": {
        "id": "tHTVDimqrty_"
      },
      "source": [
        "각각의 토큰으로 list에 저장되어 있는 target data를 하나의 문자열로 변환합니다."
      ]
    },
    {
      "cell_type": "code",
      "metadata": {
        "id": "uNSWkHNtd5o5"
      },
      "source": [
        "def convert_target_to_string(tokenized_target_text):\n",
        "  \n",
        "  result_string_list = []\n",
        "  \n",
        "  # list형식의 tokenized target token들을 하나의 문자열로 변환 \n",
        "  for target_token in tokenized_target_text:\n",
        "    result_string = \"\"\n",
        "    \n",
        "    for tkd in target_token:\n",
        "      result_string += tkd\n",
        "    \n",
        "    result_string_list.append(result_string)\n",
        "\n",
        "  return result_string_list"
      ],
      "execution_count": null,
      "outputs": []
    },
    {
      "cell_type": "markdown",
      "metadata": {
        "id": "AfC1jZK5xm7B"
      },
      "source": [
        "개체명이 나타나는 부분이 어디인지 알아내기 위한 사전준비로 다음을 수행합니다.\n",
        "\n",
        "\n",
        "1.   하나의 input 문장을 이루는 token들이 각각 몇 번째에 출현하는지 찾음 \n",
        "2.   이전에 문자열로 변환했던 target 문장에서 정규식을 통해 개체명, 개체명 태그, 개체명이 출현하는 범위를 찾음\n",
        "\n"
      ]
    },
    {
      "cell_type": "code",
      "metadata": {
        "id": "aXPzRDTZiAtL"
      },
      "source": [
        "def searching_boundary(tokenized_texts_withoutCLS, new_result_target_list):\n",
        "  prefix_sum_of_token_start_index_list = []\n",
        "  for tokenized_texts in tokenized_texts_withoutCLS:\n",
        "    prefix_sum_of_token_start_index = []\n",
        "    sum = 0\n",
        "    for i, token in enumerate(tokenized_texts):\n",
        "        if i == 0:\n",
        "            prefix_sum_of_token_start_index.append(0)\n",
        "            sum += len(token)\n",
        "        else:\n",
        "            prefix_sum_of_token_start_index.append(sum)\n",
        "            sum += len(token)\n",
        "\n",
        "    prefix_sum_of_token_start_index_list.append(prefix_sum_of_token_start_index)\n",
        "\n",
        "\n",
        "  regex_ner = re.compile('<(.+?):[A-Z]{3}>')\n",
        "\n",
        "  list_of_ner_tag_list = []\n",
        "  list_of_ner_text_list = []\n",
        "  list_of_tuple_ner_start_end_list = []\n",
        "\n",
        "  for result_string in new_result_target_list:\n",
        "    filterd_by_regex = regex_ner.finditer(result_string)\n",
        "\n",
        "    list_of_ner_tag = []\n",
        "    list_of_ner_text = []\n",
        "    list_of_tuple_ner_start_end = []\n",
        "\n",
        "    count_of_match = 0\n",
        "\n",
        "    for match_item in filterd_by_regex:\n",
        "        ner_tag = match_item[0][-4:-1]  # <4일간:DUR> -> DUR\n",
        "        ner_text = match_item[1] # <4일간:DUR> -> 4일간\n",
        "        start_index = match_item.start() - 6 * count_of_match  # delete previous '<, :, 3 words tag name, >'\n",
        "        end_index = match_item.end() - 6 - 6 * count_of_match\n",
        "\n",
        "        list_of_ner_tag.append(ner_tag)\n",
        "        list_of_ner_text.append(ner_text)\n",
        "        list_of_tuple_ner_start_end.append((start_index, end_index))\n",
        "        count_of_match += 1\n",
        "\n",
        "    list_of_ner_tag_list.append(list_of_ner_tag)\n",
        "    list_of_ner_text_list.append(list_of_ner_text)\n",
        "    list_of_tuple_ner_start_end_list.append(list_of_tuple_ner_start_end)\n",
        "\n",
        "  return prefix_sum_of_token_start_index_list, list_of_ner_tag_list, list_of_ner_text_list, list_of_tuple_ner_start_end_list"
      ],
      "execution_count": null,
      "outputs": []
    },
    {
      "cell_type": "markdown",
      "metadata": {
        "id": "OU1izOuC6Z9K"
      },
      "source": [
        "구해놓았던 각 input토큰의 시작점과, 실제 개체명의 출현 범위를 비교하며 토큰에 대한 태그를 부착합니다."
      ]
    },
    {
      "cell_type": "code",
      "metadata": {
        "id": "ufHw9sJMCoFR"
      },
      "source": [
        "def tagging_label(tokenized_texts_withoutCLS, prefix_sum_of_token_start_index_list, list_of_ner_tag_list, list_of_ner_text_list, list_of_tuple_ner_start_end_list):\n",
        "  list_of_ner_label_list = []\n",
        "  for i in range(0, len(tokenized_texts_withoutCLS)):\n",
        "    list_of_ner_label = []\n",
        "    entity_index = 0\n",
        "    is_entity_still_B = True\n",
        "    for tup in zip(tokenized_texts_withoutCLS[i], prefix_sum_of_token_start_index_list[i]): # tokenize된 텍스트와, 각 토큰의 시작점이 tup에 저장됨\n",
        "        token, index = tup\n",
        "        if '▁' in token:  # '▁' 이것과 우리가 쓰는 underscore '_'는 서로 다른 문자임\n",
        "                index += 1  # 토큰이 '▁'를 앞단에 포함한 경우 index 한개 앞으로 당김 # ('▁13', 9) -> ('13', 10)\n",
        "        \n",
        "        if entity_index < len(list_of_tuple_ner_start_end_list[i]): # entity_index가 분석 개체명 개수보다 작을 경우\n",
        "            start, end = list_of_tuple_ner_start_end_list[i][entity_index] # start, end 값은 entity_index 번째의 start, end 값\n",
        "            if end <= index:  # 토큰을 하나하나 보다가, 인식된 개체명을 넘어가면       # end : 원본 데이터에서 인식된 개체명 엔티티가 끝나는 지점, index : 각 토큰들의 시작점\n",
        "                is_entity_still_B = True # is_entity_still_B = true로 설정\n",
        "                entity_index = entity_index + 1 if entity_index + 1 < len(list_of_tuple_ner_start_end_list[i]) else entity_index # 아래 과정을 더하여 다음 인식된 개체명으로 넘어감\n",
        "                start, end = list_of_tuple_ner_start_end_list[i][entity_index]\n",
        "            # 인식된 개체명 사이에 index가 도달했을 경우\n",
        "            if start <= index and index < end: \n",
        "                entity_tag = list_of_ner_tag_list[i][entity_index] # 해당 개체명에 대한 태그를 entity_tag에 저장\n",
        "                if is_entity_still_B is True: # 엔티티의 첫 시작점이라면\n",
        "                    entity_tag = 'B-' + entity_tag # entity_tag 앞에 B-를 붙임\n",
        "                    list_of_ner_label.append(entity_tag) # label set에 결과물을 넣음\n",
        "                    is_entity_still_B = False # is_entity_still_B = False로 설정, 이제부터는 시작점이 아니므로\n",
        "                else: # 시작점이 아닐 경우\n",
        "                    entity_tag = 'I-' + entity_tag  # entity_tag 앞에 I-를 붙임\n",
        "                    list_of_ner_label.append(entity_tag) # label set에 넣음\n",
        "            else: # 인식된 개체명이 없을 경우\n",
        "                is_entity_still_B = True # is_entity_still_B = True로 설정\n",
        "                entity_tag = 'O' # entity_tag = O로 변경\n",
        "                list_of_ner_label.append(entity_tag) # label set에 넣음\n",
        "\n",
        "        else:\n",
        "            entity_tag = 'O'\n",
        "            list_of_ner_label.append(entity_tag)\n",
        "    list_of_ner_label_list.append(list_of_ner_label)\n",
        "  return list_of_ner_label_list"
      ],
      "execution_count": null,
      "outputs": []
    },
    {
      "cell_type": "markdown",
      "metadata": {
        "id": "JVE7AeiA6TVm"
      },
      "source": [
        "결과물에 [SEP]와 [CLS] 태그를 부착합니다.\n",
        "<br>"
      ]
    },
    {
      "cell_type": "markdown",
      "metadata": {
        "id": "rQqRxVkUdObm"
      },
      "source": [
        "앞서 Input data에도 부착된 이 태그들은 BERT 모델 형식에 맞추기 위함으로, [CLS]는 문장의 시작을 나타내고 [SEP]는 문장이 분리되는 지점(문장의 끝)을 나타냅니다."
      ]
    },
    {
      "cell_type": "code",
      "metadata": {
        "id": "IQv-RqMSF--u"
      },
      "source": [
        "def append_CLS_SEP(list_of_ner_label_list):\n",
        "  for ner_label in list_of_ner_label_list:\n",
        "    ner_label.append(\"[SEP]\")\n",
        "    ner_label.insert(0, \"[CLS]\")\n",
        "  return list_of_ner_label_list"
      ],
      "execution_count": null,
      "outputs": []
    },
    {
      "cell_type": "code",
      "metadata": {
        "id": "KV-6OZNRqtes"
      },
      "source": [
        "#ner_label_list_result = preprocessing_target(input_list, target_list)\n",
        "\n",
        "ner_label_list_result, tokenized_target_text, result_target_list, prefix_sum_of_token_start_index_list, list_of_ner_tag_list, list_of_ner_text_list, list_of_tuple_ner_start_end_list, list_of_ner_label_list = preprocessing_target(input_list, target_list)"
      ],
      "execution_count": null,
      "outputs": []
    },
    {
      "cell_type": "code",
      "metadata": {
        "colab": {
          "base_uri": "https://localhost:8080/"
        },
        "id": "ErAXENfE3b-p",
        "outputId": "839687b2-0335-443b-f54e-64ff00e172c5"
      },
      "source": [
        "print(\"0. tokenized_target_text\\n\",tokenized_target_text[0:1], '\\n')\n",
        "print()\n",
        "\n",
        "print(\"1. result_target_list\\n\",result_target_list[0:1], '\\n')\n",
        "print()\n",
        "\n",
        "print(\"2-1. prefix_sum_of_token_start_index_list\\n\",prefix_sum_of_token_start_index_list[0:1])\n",
        "print()\n",
        "print(\"2-2. list_of_ner_tag_list\\n\",list_of_ner_tag_list[0:1])\n",
        "print()\n",
        "print(\"2-3. list_of_ner_text_list\\n\",list_of_ner_text_list[0:1])\n",
        "print()\n",
        "print(\"2-4. list_of_tuple_ner_start_end_list\\n\",list_of_tuple_ner_start_end_list[0:1], '\\n')\n",
        "print()\n",
        "\n",
        "print(\"3. list_of_ner_label_list\\n\",list_of_ner_label_list[0:1], '\\n')\n",
        "print()\n",
        "\n",
        "print(\"4. ner_label_list_result\\n\",ner_label_list_result[0:1], '\\n')\n",
        "print()"
      ],
      "execution_count": null,
      "outputs": [
        {
          "output_type": "stream",
          "text": [
            "0. tokenized_target_text\n",
            " [['▁여기', '서', '▁우', '투수', '는', '▁우', '타자', '를', '▁상대로', '▁<', '0', '.', '2', '79', ':', 'P', 'N', 'T', '>', ',', '▁좌', '타자', '를', '▁상대로', '▁<', '0', '.', '2', '86', ':', 'P', 'N', 'T', '>', '의', '▁', '피안타', '율을', '▁기록했다', '.']] \n",
            "\n",
            "\n",
            "1. result_target_list\n",
            " ['▁여기서▁우투수는▁우타자를▁상대로▁<0.279:PNT>,▁좌타자를▁상대로▁<0.286:PNT>의▁피안타율을▁기록했다.'] \n",
            "\n",
            "\n",
            "2-1. prefix_sum_of_token_start_index_list\n",
            " [[0, 3, 4, 6, 8, 9, 11, 13, 14, 18, 22, 24, 25, 27, 29, 30, 34, 38, 40, 41, 42, 45, 47, 52]]\n",
            "\n",
            "2-2. list_of_ner_tag_list\n",
            " [['PNT', 'PNT']]\n",
            "\n",
            "2-3. list_of_ner_text_list\n",
            " [['0.279', '0.286']]\n",
            "\n",
            "2-4. list_of_tuple_ner_start_end_list\n",
            " [[(19, 24), (35, 40)]] \n",
            "\n",
            "\n",
            "3. list_of_ner_label_list\n",
            " [['[CLS]', 'O', 'O', 'O', 'O', 'O', 'O', 'O', 'O', 'O', 'B-PNT', 'I-PNT', 'O', 'O', 'O', 'O', 'O', 'B-PNT', 'I-PNT', 'O', 'O', 'O', 'O', 'O', 'O', '[SEP]']] \n",
            "\n",
            "\n",
            "4. ner_label_list_result\n",
            " [['[CLS]', 'O', 'O', 'O', 'O', 'O', 'O', 'O', 'O', 'O', 'B-PNT', 'I-PNT', 'O', 'O', 'O', 'O', 'O', 'B-PNT', 'I-PNT', 'O', 'O', 'O', 'O', 'O', 'O', '[SEP]']] \n",
            "\n",
            "\n"
          ],
          "name": "stdout"
        }
      ]
    },
    {
      "cell_type": "markdown",
      "metadata": {
        "id": "QLWFwJWLNcVM"
      },
      "source": [
        "#### **target labels embedding & padding 작업**"
      ]
    },
    {
      "cell_type": "markdown",
      "metadata": {
        "id": "lLcoZnRSelaS"
      },
      "source": [
        "target label(tagset) 에 대한 임베딩, 패딩 작업입니다. \n",
        "<br>\n",
        "Tokenized input data에서 사용한 임베딩 방법이 제대로 적용되지 않는 오류가 있어 다음과 같이 tagset에 대한 {태그:숫자값} dictionary를 임의로 생성하였습니다. "
      ]
    },
    {
      "cell_type": "code",
      "metadata": {
        "id": "bOR-yZa_p1Zh"
      },
      "source": [
        "# '피해 유형'을 나타내는 EMR 태그까지 생성\n",
        "\n",
        "tag_dict = {'[PAD]' : 0, '[CLS]': 1,\n",
        "            '[SEP]': 2, 'O' : 3,\n",
        "            'B-PER': 4, 'I-PER': 5, \n",
        "            'B-ORG': 6, 'I-ORG': 7,\n",
        "            'B-LOC': 8, 'I-LOC': 9, \n",
        "            'B-POH': 10, 'I-POH': 11,\n",
        "            'B-DAT': 12, 'I-DAT': 13,\n",
        "            'B-TIM': 14, 'I-TIM': 15,\n",
        "            'B-DUR': 16, 'I-DUR': 17,\n",
        "            'B-MNY': 18, 'I-MNY': 19,\n",
        "            'B-PNT': 20, 'I-PNT': 21, \n",
        "            'B-NOH': 22, 'I-NOH': 23,\n",
        "            'B-EMR': 24, 'I-EMR': 25}"
      ],
      "execution_count": null,
      "outputs": []
    },
    {
      "cell_type": "markdown",
      "metadata": {
        "id": "UPYZd4ug3lvb"
      },
      "source": [
        "{숫자값:태그}을 갖는 역순의 dict입니다. 이후 결과 출력을 위해 사용됩니다."
      ]
    },
    {
      "cell_type": "code",
      "metadata": {
        "id": "j9OQXhsZzS5V"
      },
      "source": [
        "tag_dict_decode = inv_map = {v: k for k, v in tag_dict.items()}"
      ],
      "execution_count": null,
      "outputs": []
    },
    {
      "cell_type": "markdown",
      "metadata": {
        "id": "OKFe9CYV4GFc"
      },
      "source": [
        "생성한 dictionary를 통해 임베딩을 진행합니다."
      ]
    },
    {
      "cell_type": "code",
      "metadata": {
        "id": "vqROZvZitTrO"
      },
      "source": [
        "labels_ids = []\n",
        "\n",
        "# tag_dict로 embedding 진행\n",
        "for label_list in ner_label_list_result:\n",
        "  labels_ids_embedded = [tag_dict.get(x) for x in label_list]  \n",
        "  labels_ids.append(labels_ids_embedded)"
      ],
      "execution_count": null,
      "outputs": []
    },
    {
      "cell_type": "markdown",
      "metadata": {
        "id": "3pSNKpDrufAL"
      },
      "source": [
        "Input data와 같은 길이로 padding을 진행합니다."
      ]
    },
    {
      "cell_type": "code",
      "metadata": {
        "id": "xInrK83bi0Y_"
      },
      "source": [
        " MAX_LEN = 128\n",
        "\n",
        "labels_ids = pad_sequences(labels_ids, maxlen=MAX_LEN, dtype=\"long\", truncating=\"post\", padding=\"post\")"
      ],
      "execution_count": null,
      "outputs": []
    },
    {
      "cell_type": "code",
      "metadata": {
        "colab": {
          "base_uri": "https://localhost:8080/"
        },
        "id": "f_nAZLmqdPCI",
        "outputId": "98c66832-b58c-4568-e6ab-a78b7a18f9ff"
      },
      "source": [
        "print(\"labels_ids\\n\",labels_ids[0:1])"
      ],
      "execution_count": null,
      "outputs": [
        {
          "output_type": "stream",
          "text": [
            "labels_ids\n",
            " [[ 1  3  3  3  3  3  3  3  3  3 20 21  3  3  3  3  3 20 21  3  3  3  3  3\n",
            "   3  2  0  0  0  0  0  0  0  0  0  0  0  0  0  0  0  0  0  0  0  0  0  0\n",
            "   0  0  0  0  0  0  0  0  0  0  0  0  0  0  0  0  0  0  0  0  0  0  0  0\n",
            "   0  0  0  0  0  0  0  0  0  0  0  0  0  0  0  0  0  0  0  0  0  0  0  0\n",
            "   0  0  0  0  0  0  0  0  0  0  0  0  0  0  0  0  0  0  0  0  0  0  0  0\n",
            "   0  0  0  0  0  0  0  0]]\n"
          ],
          "name": "stdout"
        }
      ]
    },
    {
      "cell_type": "markdown",
      "metadata": {
        "id": "3X8I0JLpgJSf"
      },
      "source": [
        "# **Modeling**"
      ]
    },
    {
      "cell_type": "markdown",
      "metadata": {
        "id": "Qdfmm27yulTV"
      },
      "source": [
        "#### **데이터 구조 변환 및 Training 준비**"
      ]
    },
    {
      "cell_type": "markdown",
      "metadata": {
        "id": "i_FM7aQAgTvt"
      },
      "source": [
        "준비한 각 데이터를 Pytorch의 Tensor라는 자료구조 형식으로 변환합니다. Hugging face의 Pytorch 기반 라이브러리를 사용하기 때문입니다."
      ]
    },
    {
      "cell_type": "code",
      "metadata": {
        "id": "3gluWH_qf57L"
      },
      "source": [
        "model_inputs = torch.tensor(input_ids)\n",
        "model_labels = torch.tensor(labels_ids)\n",
        "model_masks = torch.tensor(attention_masks)"
      ],
      "execution_count": null,
      "outputs": []
    },
    {
      "cell_type": "code",
      "metadata": {
        "id": "XKgS_QgPxjgZ"
      },
      "source": [
        "batch_size = 8\n",
        "\n",
        "# Pytorch의 DataLoader로 입력, 마스크, 라벨을 묶어 데이터를 설정\n",
        "\n",
        "model_data = TensorDataset(model_inputs, model_masks, model_labels)\n",
        "model_sampler = RandomSampler(model_data)\n",
        "model_dataloader = DataLoader(model_data, sampler=model_sampler, batch_size=batch_size)"
      ],
      "execution_count": null,
      "outputs": []
    },
    {
      "cell_type": "markdown",
      "metadata": {
        "id": "WwuqbCWqvlUl"
      },
      "source": [
        "Model을 생성하기 전, GPU연산을 해야 하기 때문에 GPU에 대한 정보를 파악하고, GPU 디바이스 설정을 진행합니다."
      ]
    },
    {
      "cell_type": "code",
      "metadata": {
        "id": "rZiADr9EvoFZ",
        "colab": {
          "base_uri": "https://localhost:8080/"
        },
        "outputId": "db304293-235b-4a2b-930b-6b4c26cffd67"
      },
      "source": [
        "# GPU 디바이스 이름 구함\n",
        "device_name = tf.test.gpu_device_name()\n",
        "\n",
        "# GPU 디바이스 이름 검사\n",
        "if device_name == '/device:GPU:0':\n",
        "    print('Found GPU at: {}'.format(device_name))\n",
        "else:\n",
        "    raise SystemError('GPU device not found')\n",
        "    \n",
        "# 디바이스 설정\n",
        "if torch.cuda.is_available():    \n",
        "    device = torch.device(\"cuda\")\n",
        "    print('There are %d GPU(s) available.' % torch.cuda.device_count())\n",
        "    print('We will use the GPU:', torch.cuda.get_device_name(0))\n",
        "else:\n",
        "    device = torch.device(\"cpu\")\n",
        "    print('No GPU available, using the CPU instead.')"
      ],
      "execution_count": null,
      "outputs": [
        {
          "output_type": "stream",
          "text": [
            "Found GPU at: /device:GPU:0\n",
            "There are 1 GPU(s) available.\n",
            "We will use the GPU: Tesla T4\n"
          ],
          "name": "stdout"
        }
      ]
    },
    {
      "cell_type": "markdown",
      "metadata": {
        "id": "_AySBqrixdcd"
      },
      "source": [
        "Model을 생성합니다."
      ]
    },
    {
      "cell_type": "code",
      "metadata": {
        "id": "8ovKnF3Sv3Kp",
        "colab": {
          "base_uri": "https://localhost:8080/",
          "height": 1000,
          "referenced_widgets": [
            "bbc7462dddf9429499519ec2f904e279",
            "887b2a5a0ee04214b4740ab7be219560",
            "5fef5d726e374f11b0f8e2fddf754cc3",
            "3bd226f0d7e54a05a227104ebd9dd5cc",
            "b5f4cc7db19c477c8995a1313f662a95",
            "377128d4deeb4b14b2bdc9ad07f882b7",
            "1ea8d0bb36f84590a8adda51c84235ce",
            "6cae8dc1ce604b478bec2d3b027d59f2",
            "07770833fc9742918eb4dc53d00551d0",
            "8defb4a6416b4156a385de7adac2de32",
            "4b44dc00586b451db33d5ce84d2c1f27",
            "9406df228f4f4c0c81583ad6e756dbb1",
            "a9aa9480c6ff41c796472b91b5a21b45",
            "ce2d43d9d67040979c5144347ef1052c",
            "55304274e2f740c69a912d975c40e9f4",
            "0fc99ca1dd4b425c9c12d1c51ea1fe38"
          ]
        },
        "outputId": "020c16fc-99e6-4124-f7c0-b74a5ef9e9db"
      },
      "source": [
        "# Token 분류를 위한 BERT 모델 생성\n",
        "model = BertForTokenClassification.from_pretrained('monologg/kobert', num_labels = 26, output_attentions = False, output_hidden_states = False)\n",
        "model.cuda()"
      ],
      "execution_count": null,
      "outputs": [
        {
          "output_type": "display_data",
          "data": {
            "application/vnd.jupyter.widget-view+json": {
              "model_id": "bbc7462dddf9429499519ec2f904e279",
              "version_minor": 0,
              "version_major": 2
            },
            "text/plain": [
              "HBox(children=(FloatProgress(value=0.0, description='Downloading', max=426.0, style=ProgressStyle(description_…"
            ]
          },
          "metadata": {
            "tags": []
          }
        },
        {
          "output_type": "stream",
          "text": [
            "\n"
          ],
          "name": "stdout"
        },
        {
          "output_type": "display_data",
          "data": {
            "application/vnd.jupyter.widget-view+json": {
              "model_id": "07770833fc9742918eb4dc53d00551d0",
              "version_minor": 0,
              "version_major": 2
            },
            "text/plain": [
              "HBox(children=(FloatProgress(value=0.0, description='Downloading', max=368792146.0, style=ProgressStyle(descri…"
            ]
          },
          "metadata": {
            "tags": []
          }
        },
        {
          "output_type": "stream",
          "text": [
            "\n"
          ],
          "name": "stdout"
        },
        {
          "output_type": "stream",
          "text": [
            "Some weights of BertForTokenClassification were not initialized from the model checkpoint at monologg/kobert and are newly initialized: ['classifier.bias', 'classifier.weight']\n",
            "You should probably TRAIN this model on a down-stream task to be able to use it for predictions and inference.\n"
          ],
          "name": "stderr"
        },
        {
          "output_type": "execute_result",
          "data": {
            "text/plain": [
              "BertForTokenClassification(\n",
              "  (bert): BertModel(\n",
              "    (embeddings): BertEmbeddings(\n",
              "      (word_embeddings): Embedding(8002, 768, padding_idx=1)\n",
              "      (position_embeddings): Embedding(512, 768)\n",
              "      (token_type_embeddings): Embedding(2, 768)\n",
              "      (LayerNorm): LayerNorm((768,), eps=1e-12, elementwise_affine=True)\n",
              "      (dropout): Dropout(p=0.1, inplace=False)\n",
              "    )\n",
              "    (encoder): BertEncoder(\n",
              "      (layer): ModuleList(\n",
              "        (0): BertLayer(\n",
              "          (attention): BertAttention(\n",
              "            (self): BertSelfAttention(\n",
              "              (query): Linear(in_features=768, out_features=768, bias=True)\n",
              "              (key): Linear(in_features=768, out_features=768, bias=True)\n",
              "              (value): Linear(in_features=768, out_features=768, bias=True)\n",
              "              (dropout): Dropout(p=0.1, inplace=False)\n",
              "            )\n",
              "            (output): BertSelfOutput(\n",
              "              (dense): Linear(in_features=768, out_features=768, bias=True)\n",
              "              (LayerNorm): LayerNorm((768,), eps=1e-12, elementwise_affine=True)\n",
              "              (dropout): Dropout(p=0.1, inplace=False)\n",
              "            )\n",
              "          )\n",
              "          (intermediate): BertIntermediate(\n",
              "            (dense): Linear(in_features=768, out_features=3072, bias=True)\n",
              "          )\n",
              "          (output): BertOutput(\n",
              "            (dense): Linear(in_features=3072, out_features=768, bias=True)\n",
              "            (LayerNorm): LayerNorm((768,), eps=1e-12, elementwise_affine=True)\n",
              "            (dropout): Dropout(p=0.1, inplace=False)\n",
              "          )\n",
              "        )\n",
              "        (1): BertLayer(\n",
              "          (attention): BertAttention(\n",
              "            (self): BertSelfAttention(\n",
              "              (query): Linear(in_features=768, out_features=768, bias=True)\n",
              "              (key): Linear(in_features=768, out_features=768, bias=True)\n",
              "              (value): Linear(in_features=768, out_features=768, bias=True)\n",
              "              (dropout): Dropout(p=0.1, inplace=False)\n",
              "            )\n",
              "            (output): BertSelfOutput(\n",
              "              (dense): Linear(in_features=768, out_features=768, bias=True)\n",
              "              (LayerNorm): LayerNorm((768,), eps=1e-12, elementwise_affine=True)\n",
              "              (dropout): Dropout(p=0.1, inplace=False)\n",
              "            )\n",
              "          )\n",
              "          (intermediate): BertIntermediate(\n",
              "            (dense): Linear(in_features=768, out_features=3072, bias=True)\n",
              "          )\n",
              "          (output): BertOutput(\n",
              "            (dense): Linear(in_features=3072, out_features=768, bias=True)\n",
              "            (LayerNorm): LayerNorm((768,), eps=1e-12, elementwise_affine=True)\n",
              "            (dropout): Dropout(p=0.1, inplace=False)\n",
              "          )\n",
              "        )\n",
              "        (2): BertLayer(\n",
              "          (attention): BertAttention(\n",
              "            (self): BertSelfAttention(\n",
              "              (query): Linear(in_features=768, out_features=768, bias=True)\n",
              "              (key): Linear(in_features=768, out_features=768, bias=True)\n",
              "              (value): Linear(in_features=768, out_features=768, bias=True)\n",
              "              (dropout): Dropout(p=0.1, inplace=False)\n",
              "            )\n",
              "            (output): BertSelfOutput(\n",
              "              (dense): Linear(in_features=768, out_features=768, bias=True)\n",
              "              (LayerNorm): LayerNorm((768,), eps=1e-12, elementwise_affine=True)\n",
              "              (dropout): Dropout(p=0.1, inplace=False)\n",
              "            )\n",
              "          )\n",
              "          (intermediate): BertIntermediate(\n",
              "            (dense): Linear(in_features=768, out_features=3072, bias=True)\n",
              "          )\n",
              "          (output): BertOutput(\n",
              "            (dense): Linear(in_features=3072, out_features=768, bias=True)\n",
              "            (LayerNorm): LayerNorm((768,), eps=1e-12, elementwise_affine=True)\n",
              "            (dropout): Dropout(p=0.1, inplace=False)\n",
              "          )\n",
              "        )\n",
              "        (3): BertLayer(\n",
              "          (attention): BertAttention(\n",
              "            (self): BertSelfAttention(\n",
              "              (query): Linear(in_features=768, out_features=768, bias=True)\n",
              "              (key): Linear(in_features=768, out_features=768, bias=True)\n",
              "              (value): Linear(in_features=768, out_features=768, bias=True)\n",
              "              (dropout): Dropout(p=0.1, inplace=False)\n",
              "            )\n",
              "            (output): BertSelfOutput(\n",
              "              (dense): Linear(in_features=768, out_features=768, bias=True)\n",
              "              (LayerNorm): LayerNorm((768,), eps=1e-12, elementwise_affine=True)\n",
              "              (dropout): Dropout(p=0.1, inplace=False)\n",
              "            )\n",
              "          )\n",
              "          (intermediate): BertIntermediate(\n",
              "            (dense): Linear(in_features=768, out_features=3072, bias=True)\n",
              "          )\n",
              "          (output): BertOutput(\n",
              "            (dense): Linear(in_features=3072, out_features=768, bias=True)\n",
              "            (LayerNorm): LayerNorm((768,), eps=1e-12, elementwise_affine=True)\n",
              "            (dropout): Dropout(p=0.1, inplace=False)\n",
              "          )\n",
              "        )\n",
              "        (4): BertLayer(\n",
              "          (attention): BertAttention(\n",
              "            (self): BertSelfAttention(\n",
              "              (query): Linear(in_features=768, out_features=768, bias=True)\n",
              "              (key): Linear(in_features=768, out_features=768, bias=True)\n",
              "              (value): Linear(in_features=768, out_features=768, bias=True)\n",
              "              (dropout): Dropout(p=0.1, inplace=False)\n",
              "            )\n",
              "            (output): BertSelfOutput(\n",
              "              (dense): Linear(in_features=768, out_features=768, bias=True)\n",
              "              (LayerNorm): LayerNorm((768,), eps=1e-12, elementwise_affine=True)\n",
              "              (dropout): Dropout(p=0.1, inplace=False)\n",
              "            )\n",
              "          )\n",
              "          (intermediate): BertIntermediate(\n",
              "            (dense): Linear(in_features=768, out_features=3072, bias=True)\n",
              "          )\n",
              "          (output): BertOutput(\n",
              "            (dense): Linear(in_features=3072, out_features=768, bias=True)\n",
              "            (LayerNorm): LayerNorm((768,), eps=1e-12, elementwise_affine=True)\n",
              "            (dropout): Dropout(p=0.1, inplace=False)\n",
              "          )\n",
              "        )\n",
              "        (5): BertLayer(\n",
              "          (attention): BertAttention(\n",
              "            (self): BertSelfAttention(\n",
              "              (query): Linear(in_features=768, out_features=768, bias=True)\n",
              "              (key): Linear(in_features=768, out_features=768, bias=True)\n",
              "              (value): Linear(in_features=768, out_features=768, bias=True)\n",
              "              (dropout): Dropout(p=0.1, inplace=False)\n",
              "            )\n",
              "            (output): BertSelfOutput(\n",
              "              (dense): Linear(in_features=768, out_features=768, bias=True)\n",
              "              (LayerNorm): LayerNorm((768,), eps=1e-12, elementwise_affine=True)\n",
              "              (dropout): Dropout(p=0.1, inplace=False)\n",
              "            )\n",
              "          )\n",
              "          (intermediate): BertIntermediate(\n",
              "            (dense): Linear(in_features=768, out_features=3072, bias=True)\n",
              "          )\n",
              "          (output): BertOutput(\n",
              "            (dense): Linear(in_features=3072, out_features=768, bias=True)\n",
              "            (LayerNorm): LayerNorm((768,), eps=1e-12, elementwise_affine=True)\n",
              "            (dropout): Dropout(p=0.1, inplace=False)\n",
              "          )\n",
              "        )\n",
              "        (6): BertLayer(\n",
              "          (attention): BertAttention(\n",
              "            (self): BertSelfAttention(\n",
              "              (query): Linear(in_features=768, out_features=768, bias=True)\n",
              "              (key): Linear(in_features=768, out_features=768, bias=True)\n",
              "              (value): Linear(in_features=768, out_features=768, bias=True)\n",
              "              (dropout): Dropout(p=0.1, inplace=False)\n",
              "            )\n",
              "            (output): BertSelfOutput(\n",
              "              (dense): Linear(in_features=768, out_features=768, bias=True)\n",
              "              (LayerNorm): LayerNorm((768,), eps=1e-12, elementwise_affine=True)\n",
              "              (dropout): Dropout(p=0.1, inplace=False)\n",
              "            )\n",
              "          )\n",
              "          (intermediate): BertIntermediate(\n",
              "            (dense): Linear(in_features=768, out_features=3072, bias=True)\n",
              "          )\n",
              "          (output): BertOutput(\n",
              "            (dense): Linear(in_features=3072, out_features=768, bias=True)\n",
              "            (LayerNorm): LayerNorm((768,), eps=1e-12, elementwise_affine=True)\n",
              "            (dropout): Dropout(p=0.1, inplace=False)\n",
              "          )\n",
              "        )\n",
              "        (7): BertLayer(\n",
              "          (attention): BertAttention(\n",
              "            (self): BertSelfAttention(\n",
              "              (query): Linear(in_features=768, out_features=768, bias=True)\n",
              "              (key): Linear(in_features=768, out_features=768, bias=True)\n",
              "              (value): Linear(in_features=768, out_features=768, bias=True)\n",
              "              (dropout): Dropout(p=0.1, inplace=False)\n",
              "            )\n",
              "            (output): BertSelfOutput(\n",
              "              (dense): Linear(in_features=768, out_features=768, bias=True)\n",
              "              (LayerNorm): LayerNorm((768,), eps=1e-12, elementwise_affine=True)\n",
              "              (dropout): Dropout(p=0.1, inplace=False)\n",
              "            )\n",
              "          )\n",
              "          (intermediate): BertIntermediate(\n",
              "            (dense): Linear(in_features=768, out_features=3072, bias=True)\n",
              "          )\n",
              "          (output): BertOutput(\n",
              "            (dense): Linear(in_features=3072, out_features=768, bias=True)\n",
              "            (LayerNorm): LayerNorm((768,), eps=1e-12, elementwise_affine=True)\n",
              "            (dropout): Dropout(p=0.1, inplace=False)\n",
              "          )\n",
              "        )\n",
              "        (8): BertLayer(\n",
              "          (attention): BertAttention(\n",
              "            (self): BertSelfAttention(\n",
              "              (query): Linear(in_features=768, out_features=768, bias=True)\n",
              "              (key): Linear(in_features=768, out_features=768, bias=True)\n",
              "              (value): Linear(in_features=768, out_features=768, bias=True)\n",
              "              (dropout): Dropout(p=0.1, inplace=False)\n",
              "            )\n",
              "            (output): BertSelfOutput(\n",
              "              (dense): Linear(in_features=768, out_features=768, bias=True)\n",
              "              (LayerNorm): LayerNorm((768,), eps=1e-12, elementwise_affine=True)\n",
              "              (dropout): Dropout(p=0.1, inplace=False)\n",
              "            )\n",
              "          )\n",
              "          (intermediate): BertIntermediate(\n",
              "            (dense): Linear(in_features=768, out_features=3072, bias=True)\n",
              "          )\n",
              "          (output): BertOutput(\n",
              "            (dense): Linear(in_features=3072, out_features=768, bias=True)\n",
              "            (LayerNorm): LayerNorm((768,), eps=1e-12, elementwise_affine=True)\n",
              "            (dropout): Dropout(p=0.1, inplace=False)\n",
              "          )\n",
              "        )\n",
              "        (9): BertLayer(\n",
              "          (attention): BertAttention(\n",
              "            (self): BertSelfAttention(\n",
              "              (query): Linear(in_features=768, out_features=768, bias=True)\n",
              "              (key): Linear(in_features=768, out_features=768, bias=True)\n",
              "              (value): Linear(in_features=768, out_features=768, bias=True)\n",
              "              (dropout): Dropout(p=0.1, inplace=False)\n",
              "            )\n",
              "            (output): BertSelfOutput(\n",
              "              (dense): Linear(in_features=768, out_features=768, bias=True)\n",
              "              (LayerNorm): LayerNorm((768,), eps=1e-12, elementwise_affine=True)\n",
              "              (dropout): Dropout(p=0.1, inplace=False)\n",
              "            )\n",
              "          )\n",
              "          (intermediate): BertIntermediate(\n",
              "            (dense): Linear(in_features=768, out_features=3072, bias=True)\n",
              "          )\n",
              "          (output): BertOutput(\n",
              "            (dense): Linear(in_features=3072, out_features=768, bias=True)\n",
              "            (LayerNorm): LayerNorm((768,), eps=1e-12, elementwise_affine=True)\n",
              "            (dropout): Dropout(p=0.1, inplace=False)\n",
              "          )\n",
              "        )\n",
              "        (10): BertLayer(\n",
              "          (attention): BertAttention(\n",
              "            (self): BertSelfAttention(\n",
              "              (query): Linear(in_features=768, out_features=768, bias=True)\n",
              "              (key): Linear(in_features=768, out_features=768, bias=True)\n",
              "              (value): Linear(in_features=768, out_features=768, bias=True)\n",
              "              (dropout): Dropout(p=0.1, inplace=False)\n",
              "            )\n",
              "            (output): BertSelfOutput(\n",
              "              (dense): Linear(in_features=768, out_features=768, bias=True)\n",
              "              (LayerNorm): LayerNorm((768,), eps=1e-12, elementwise_affine=True)\n",
              "              (dropout): Dropout(p=0.1, inplace=False)\n",
              "            )\n",
              "          )\n",
              "          (intermediate): BertIntermediate(\n",
              "            (dense): Linear(in_features=768, out_features=3072, bias=True)\n",
              "          )\n",
              "          (output): BertOutput(\n",
              "            (dense): Linear(in_features=3072, out_features=768, bias=True)\n",
              "            (LayerNorm): LayerNorm((768,), eps=1e-12, elementwise_affine=True)\n",
              "            (dropout): Dropout(p=0.1, inplace=False)\n",
              "          )\n",
              "        )\n",
              "        (11): BertLayer(\n",
              "          (attention): BertAttention(\n",
              "            (self): BertSelfAttention(\n",
              "              (query): Linear(in_features=768, out_features=768, bias=True)\n",
              "              (key): Linear(in_features=768, out_features=768, bias=True)\n",
              "              (value): Linear(in_features=768, out_features=768, bias=True)\n",
              "              (dropout): Dropout(p=0.1, inplace=False)\n",
              "            )\n",
              "            (output): BertSelfOutput(\n",
              "              (dense): Linear(in_features=768, out_features=768, bias=True)\n",
              "              (LayerNorm): LayerNorm((768,), eps=1e-12, elementwise_affine=True)\n",
              "              (dropout): Dropout(p=0.1, inplace=False)\n",
              "            )\n",
              "          )\n",
              "          (intermediate): BertIntermediate(\n",
              "            (dense): Linear(in_features=768, out_features=3072, bias=True)\n",
              "          )\n",
              "          (output): BertOutput(\n",
              "            (dense): Linear(in_features=3072, out_features=768, bias=True)\n",
              "            (LayerNorm): LayerNorm((768,), eps=1e-12, elementwise_affine=True)\n",
              "            (dropout): Dropout(p=0.1, inplace=False)\n",
              "          )\n",
              "        )\n",
              "      )\n",
              "    )\n",
              "  )\n",
              "  (dropout): Dropout(p=0.1, inplace=False)\n",
              "  (classifier): Linear(in_features=768, out_features=26, bias=True)\n",
              ")"
            ]
          },
          "metadata": {
            "tags": []
          },
          "execution_count": 29
        }
      ]
    },
    {
      "cell_type": "markdown",
      "metadata": {
        "id": "D7hl_4mWx5HG"
      },
      "source": [
        "# **Training**"
      ]
    },
    {
      "cell_type": "markdown",
      "metadata": {
        "id": "TzlT5Ux6u4DW"
      },
      "source": [
        "#### **Optimizer & Hyper parameters 설정**"
      ]
    },
    {
      "cell_type": "code",
      "metadata": {
        "id": "LCieXNB_xLSD"
      },
      "source": [
        "# 옵티마이저 설정\n",
        "optimizer = AdamW(model.parameters(),\n",
        "                  lr = 1e-5, # 학습률\n",
        "                  eps = 1e-8 # 0으로 나누는 것을 방지하기 위한 epsilon 값\n",
        "                )\n",
        "\n",
        "# 에폭수\n",
        "epochs = 50\n",
        "\n",
        "# 총 훈련 스텝 : 배치반복 횟수 * 에폭\n",
        "total_steps = len(model_dataloader) * epochs\n",
        "\n",
        "# 학습률을 조금씩 감소시키는 스케줄러 생성 (overfitting 방지)\n",
        "scheduler = get_linear_schedule_with_warmup(optimizer, \n",
        "                                            num_warmup_steps = 0,\n",
        "                                            num_training_steps = total_steps)"
      ],
      "execution_count": null,
      "outputs": []
    },
    {
      "cell_type": "code",
      "metadata": {
        "id": "Zz9lHa8PyErU"
      },
      "source": [
        "# 시간 표시 함수\n",
        "def format_time(elapsed):\n",
        "\n",
        "    # 반올림\n",
        "    elapsed_rounded = int(round((elapsed)))\n",
        "    \n",
        "    # hh:mm:ss으로 형태 변경\n",
        "    return str(datetime.timedelta(seconds=elapsed_rounded))"
      ],
      "execution_count": null,
      "outputs": []
    },
    {
      "cell_type": "markdown",
      "metadata": {
        "id": "j1zj-Mybu_HU"
      },
      "source": [
        "#### **Training 진행**"
      ]
    },
    {
      "cell_type": "code",
      "metadata": {
        "id": "aR0lYzRUyHVx",
        "colab": {
          "base_uri": "https://localhost:8080/"
        },
        "outputId": "ed47aca5-4c5a-4941-9eb8-b0d54cf1d13b"
      },
      "source": [
        "# 재현을 위해 랜덤시드 고정\n",
        "seed_val = 42\n",
        "random.seed(seed_val)\n",
        "np.random.seed(seed_val)\n",
        "torch.manual_seed(seed_val)\n",
        "torch.cuda.manual_seed_all(seed_val)\n",
        "\n",
        "# 그래디언트 초기화\n",
        "model.zero_grad()\n",
        "\n",
        "# 에폭만큼 반복\n",
        "for epoch_i in range(0, epochs):\n",
        "    print(\"\")\n",
        "    print('======== Epoch {:} / {:} ========'.format(epoch_i + 1, epochs))\n",
        "    print('Training...')\n",
        "\n",
        "    # 시작 시간 설정\n",
        "    t0 = time.time()\n",
        "\n",
        "    # 로스 초기화\n",
        "    total_loss = 0\n",
        "\n",
        "    # 훈련모드로 변경\n",
        "    model.train()\n",
        "        \n",
        "    # 데이터로더에서 배치만큼 반복하여 가져옴\n",
        "    for step, batch in enumerate(model_dataloader):\n",
        "\n",
        "        # 배치를 GPU에 넣음\n",
        "        batch = tuple(t.to(device) for t in batch)\n",
        "        \n",
        "        # 배치에서 데이터 추출\n",
        "        b_input_ids, b_input_mask, b_labels = batch\n",
        "        # Forward 수행                \n",
        "        outputs = model(b_input_ids, \n",
        "                        token_type_ids=None, \n",
        "                        attention_mask=b_input_mask, \n",
        "                        labels=b_labels)\n",
        "        # 로스 구함\n",
        "        loss = outputs[0]\n",
        "        # 총 로스 계산\n",
        "        total_loss += loss.item()\n",
        "\n",
        "        # Backward 수행으로 그래디언트 계산\n",
        "        loss.backward()\n",
        "\n",
        "        # 그래디언트 클리핑\n",
        "        torch.nn.utils.clip_grad_norm_(model.parameters(), 1.0)\n",
        "        # 그래디언트를 통해 가중치 파라미터 업데이트\n",
        "        optimizer.step()\n",
        "        # 스케줄러로 학습률 감소\n",
        "        scheduler.step()\n",
        "        # 그래디언트 초기화\n",
        "        model.zero_grad()\n",
        "\n",
        "    # 평균 로스 계산\n",
        "    avg_train_loss = total_loss / len(model_dataloader)            \n",
        "\n",
        "    print(\"\")\n",
        "    print(\"  Average training loss: {0:.2f}\".format(avg_train_loss))\n",
        "    print(\"  Training epcoh took: {:}\".format(format_time(time.time() - t0)))\n",
        "\n",
        "print(\"\")\n",
        "print(\"Training complete!\")\n",
        "\n"
      ],
      "execution_count": null,
      "outputs": [
        {
          "output_type": "stream",
          "text": [
            "\n",
            "======== Epoch 1 / 50 ========\n",
            "Training...\n",
            "\n",
            "  Average training loss: 0.42\n",
            "  Training epcoh took: 0:07:47\n",
            "\n",
            "======== Epoch 2 / 50 ========\n",
            "Training...\n",
            "\n",
            "  Average training loss: 0.16\n",
            "  Training epcoh took: 0:07:59\n",
            "\n",
            "======== Epoch 3 / 50 ========\n",
            "Training...\n",
            "\n",
            "  Average training loss: 0.11\n",
            "  Training epcoh took: 0:07:59\n",
            "\n",
            "======== Epoch 4 / 50 ========\n",
            "Training...\n",
            "\n",
            "  Average training loss: 0.08\n",
            "  Training epcoh took: 0:07:58\n",
            "\n",
            "======== Epoch 5 / 50 ========\n",
            "Training...\n",
            "\n",
            "  Average training loss: 0.07\n",
            "  Training epcoh took: 0:07:57\n",
            "\n",
            "======== Epoch 6 / 50 ========\n",
            "Training...\n",
            "\n",
            "  Average training loss: 0.05\n",
            "  Training epcoh took: 0:07:57\n",
            "\n",
            "======== Epoch 7 / 50 ========\n",
            "Training...\n",
            "\n",
            "  Average training loss: 0.04\n",
            "  Training epcoh took: 0:07:57\n",
            "\n",
            "======== Epoch 8 / 50 ========\n",
            "Training...\n",
            "\n",
            "  Average training loss: 0.04\n",
            "  Training epcoh took: 0:07:56\n",
            "\n",
            "======== Epoch 9 / 50 ========\n",
            "Training...\n"
          ],
          "name": "stdout"
        }
      ]
    },
    {
      "cell_type": "markdown",
      "metadata": {
        "id": "qMZowNUoFRRT"
      },
      "source": [
        "training 완료한 모델을 저장합니다."
      ]
    },
    {
      "cell_type": "code",
      "metadata": {
        "id": "riad1SfyTncx"
      },
      "source": [
        "torch.save(model, 'drive/My Drive/BERT_NER/KoBERTmodel_for_AI_201130.pt')"
      ],
      "execution_count": null,
      "outputs": []
    },
    {
      "cell_type": "markdown",
      "metadata": {
        "id": "ognq1_VmFYZi"
      },
      "source": [
        "# **Validation**"
      ]
    },
    {
      "cell_type": "markdown",
      "metadata": {
        "id": "9rWgMQyhFhBC"
      },
      "source": [
        "#### **validation을 위한 Input, Target 데이터 load**"
      ]
    },
    {
      "cell_type": "code",
      "metadata": {
        "id": "porvMyYvFR-F",
        "colab": {
          "base_uri": "https://localhost:8080/"
        },
        "outputId": "505ae404-df51-4717-b7ef-ffb3aabc49e3"
      },
      "source": [
        "f = open(\"drive/My Drive/BERT_NER/valid_input_final.txt\", 'r')\n",
        "valid_input_list = f.readlines()\n",
        "f.close()\n",
        "print(\"--예시--\")\n",
        "print(valid_input_list[0:10], \"\\n 총 문장 수 : \", len(valid_input_list))"
      ],
      "execution_count": null,
      "outputs": [
        {
          "output_type": "stream",
          "text": [
            "--예시--\n",
            "['현대건설은 예선A조 첫 경기서 GS칼텍스를 3-2(25-23 24-26 22-25 25-20 15-13)로 제압했다 ．\\n', '대한항공 \"한전 꿇어\"\\n', '한전은 경기가 시작되자마자 강력한 서브로 대한항공 수비진을 흔든 뒤 이병주, 최귀동의 공격을 앞세워 첫 세트를 따내며 불의의 일격을 가했다 .\\n', '체육진흥투표권 수탁사업자인 스포츠토토㈜(www.sportstoto.co.kr)는 28일 개막한 2008 KOVO컵 IBK기업은행배 양산프로배구대회를 대상으로 새로운 방식으로 변경된 배구토토 매치게임을 본격 발매한다고 밝혔다 .\\n', '●하이원컵 SBS 채리티여자오픈(강원도 정선 하이원골프장)\\n', '1공태욱(김해건설공)\\n', '니시코리(일본) 기권승 카라누시치(크로아티아), 루옌순(대만) 1(1-6 6-4 6-7 4-6)3 치폴라(이스테이트)\\n', '공 감독은 \"달리 어쩌겠나 .\\n', '한전은 등록선수 9명으로 2008 양산프로배구대회(양산실내체육관)에 나왔다 .\\n', '경기내용은 좋아지겠지만 문성민이 와도 금세 팀이 달라지는 것이 아니다 .\\n'] \n",
            " 총 문장 수 :  4700\n"
          ],
          "name": "stdout"
        }
      ]
    },
    {
      "cell_type": "code",
      "metadata": {
        "id": "tkz-7I4MFSvJ",
        "colab": {
          "base_uri": "https://localhost:8080/"
        },
        "outputId": "34dfa702-a172-440d-cb74-adb12e405d56"
      },
      "source": [
        "f = open(\"drive/My Drive/BERT_NER/valid_target_final.txt\", 'r')\n",
        "valid_target_list = f.readlines()\n",
        "f.close()\n",
        "print(\"--예시--\")\n",
        "print(valid_target_list[0:10], \"\\n 총 문장 수 : \", len(valid_target_list))"
      ],
      "execution_count": null,
      "outputs": [
        {
          "output_type": "stream",
          "text": [
            "--예시--\n",
            "['<현대건설:ORG>은 예선<A조:ORG> 첫 경기서 <GS칼텍스:ORG>를 <3-2:NOH>(<25-23:NOH> <24-26:NOH> <22-25:NOH> <25-20:NOH> <15-13:NOH>)로 제압했다 ．\\n', '<대한항공:ORG> \"<한전:ORG> 꿇어\"\\n', '<한전:ORG>은 경기가 시작되자마자 강력한 서브로 <대한항공:ORG> 수비진을 흔든 뒤 <이병주:PER>, <최귀동:PER>의 공격을 앞세워 첫 세트를 따내며 불의의 일격을 가했다 .\\n', '체육진흥투표권 수탁사업자인 <스포츠토토㈜:POH>(<www.sportstoto.co.kr:POH>)는 <28일:DAT> 개막한 <2008:DAT> <KOVO컵 IBK기업은행배 양산프로배구대회:POH>를 대상으로 새로운 방식으로 변경된 배구토토 매치게임을 본격 발매한다고 밝혔다 .\\n', '●<하이원컵 SBS 채리티여자오픈:POH>(<강원도:LOC> <정선 하이원골프장:LOC>)\\n', '1<공태욱:PER>(<김해건설공:ORG>)\\n', '<니시코리:PER>(<일본:LOC>) 기권승 <카라누시치:PER>(<크로아티아:LOC>), <루옌순:PER>(<대만:LOC>) 1(<1-6:NOH> <6-4:NOH> <6-7:NOH> <4-6:NOH>)<3:NOH> <치폴라:PER>(<이스테이트:LOC>)\\n', '<공:PER> 감독은 \"달리 어쩌겠나 .\\n', '<한전:ORG>은 등록선수 <9명:NOH>으로 <2008:DAT> <양산프로배구대회:POH>(<양산실내체육관:LOC>)에 나왔다 .\\n', '경기내용은 좋아지겠지만 <문성민:PER>이 와도 금세 팀이 달라지는 것이 아니다 .\\n'] \n",
            " 총 문장 수 :  4700\n"
          ],
          "name": "stdout"
        }
      ]
    },
    {
      "cell_type": "markdown",
      "metadata": {
        "id": "DnloXCJOGmS4"
      },
      "source": [
        "#### validation을 위한 데이터 전처리 : Input용"
      ]
    },
    {
      "cell_type": "code",
      "metadata": {
        "id": "vclW-GqSF54q"
      },
      "source": [
        "valid_input_ids, valid_masks_ids, tokenized_texts = preprocessing_input(valid_input_list)"
      ],
      "execution_count": null,
      "outputs": []
    },
    {
      "cell_type": "markdown",
      "metadata": {
        "id": "upbScYRPHNxn"
      },
      "source": [
        "#### validation을 위한 데이터 전처리 : Target용"
      ]
    },
    {
      "cell_type": "code",
      "metadata": {
        "id": "bFRRkOjrFnLs"
      },
      "source": [
        "valid_target = preprocessing_target(valid_input_list, valid_target_list)"
      ],
      "execution_count": null,
      "outputs": []
    },
    {
      "cell_type": "markdown",
      "metadata": {
        "id": "FTX87OHDPW3j"
      },
      "source": [
        "#### Validation 진행"
      ]
    },
    {
      "cell_type": "markdown",
      "metadata": {
        "id": "Tl-ylyZDvok6"
      },
      "source": [
        "저장한 Model을 불러옵니다."
      ]
    },
    {
      "cell_type": "code",
      "metadata": {
        "id": "ojfiNuwxPVX7"
      },
      "source": [
        "model = torch.load('drive/My Drive/BERT_NER/KoBERTmodel_for_AI_201130.pt')"
      ],
      "execution_count": null,
      "outputs": []
    },
    {
      "cell_type": "markdown",
      "metadata": {
        "id": "Zz-QrTsXvtjt"
      },
      "source": [
        "GPU 디바이스 설정을 학습때와 동일하게 진행합니다."
      ]
    },
    {
      "cell_type": "code",
      "metadata": {
        "id": "2_WyULS_JUE2",
        "colab": {
          "base_uri": "https://localhost:8080/"
        },
        "outputId": "0fe67433-1a2c-4cee-a84b-87b9a5c87386"
      },
      "source": [
        "# GPU 디바이스 이름 구함\n",
        "device_name = tf.test.gpu_device_name()\n",
        "\n",
        "# GPU 디바이스 이름 검사\n",
        "if device_name == '/device:GPU:0':\n",
        "    print('Found GPU at: {}'.format(device_name))\n",
        "else:\n",
        "    raise SystemError('GPU device not found')\n",
        "    \n",
        "# 디바이스 설정\n",
        "if torch.cuda.is_available():    \n",
        "    device = torch.device(\"cuda\")\n",
        "    print('There are %d GPU(s) available.' % torch.cuda.device_count())\n",
        "    print('We will use the GPU:', torch.cuda.get_device_name(0))\n",
        "else:\n",
        "    device = torch.device(\"cpu\")\n",
        "    print('No GPU available, using the CPU instead.')"
      ],
      "execution_count": null,
      "outputs": [
        {
          "output_type": "stream",
          "text": [
            "Found GPU at: /device:GPU:0\n",
            "There are 1 GPU(s) available.\n",
            "We will use the GPU: Tesla T4\n"
          ],
          "name": "stdout"
        }
      ]
    },
    {
      "cell_type": "markdown",
      "metadata": {
        "id": "0qgiZUtuvwA1"
      },
      "source": [
        "forward를 수행합니다."
      ]
    },
    {
      "cell_type": "code",
      "metadata": {
        "id": "rjx2wnMjFXnd"
      },
      "source": [
        "# 평가모드로 변경\n",
        "model.eval()\n",
        "# 변수 초기화\n",
        "eval_loss, eval_accuracy = 0, 0\n",
        "nb_eval_steps, nb_eval_examples = 0, 0\n",
        "\n",
        "\n",
        "\n",
        "tokenizer = KoBertTokenizer.from_pretrained('monologg/kobert')\n",
        "pred_labels = [] # 예측 태그셋을 담을 리스트\n",
        "# 데이터로더에서 배치만큼 반복하여 가져옴\n",
        "for i in range(0, len(valid_input_list)):\n",
        "    stopFlag = False\n",
        "    valid_inputs = torch.tensor([valid_input_ids[i]])\n",
        "    valid_masks = torch.tensor([valid_masks_ids[i]])\n",
        "\n",
        "    # 배치를 GPU에 넣음\n",
        "    b_input_ids = valid_inputs.to(device)\n",
        "    b_input_mask = valid_masks.to(device)\n",
        "    \n",
        "    # 그래디언트 계산 안함\n",
        "    with torch.no_grad():     \n",
        "        # Forward 수행\n",
        "        outputs = model(b_input_ids, \n",
        "                        token_type_ids=None, \n",
        "                        attention_mask=b_input_mask)\n",
        "    \n",
        "    logits = np.argmax(outputs[0].to('cpu').numpy(), axis=2)\n",
        "    # join bpe split tokens\n",
        "    tokens = tokenizer.convert_ids_to_tokens(b_input_ids.to('cpu').numpy()[0])\n",
        "    new_labels = []\n",
        "    for token, label_idx in zip(tokens, logits[0]):\n",
        "        if stopFlag == True:\n",
        "          break\n",
        "        if token == '[SEP]': # 패딩 전까지의 출력만을 보기 위해\n",
        "          stopFlag = True\n",
        "        new_labels.append(tag_dict_decode[label_idx])\n",
        "\n",
        "    pred_labels.append(new_labels)"
      ],
      "execution_count": null,
      "outputs": []
    },
    {
      "cell_type": "markdown",
      "metadata": {
        "id": "O6KIJm_xuJfU"
      },
      "source": [
        "토큰간 validation 작업을 수행합니다. 정확도(Accuracy) 측정을 진행했습니다."
      ]
    },
    {
      "cell_type": "code",
      "metadata": {
        "id": "U93xNT2qsLZb",
        "colab": {
          "base_uri": "https://localhost:8080/"
        },
        "outputId": "0881a1b1-4ee2-401b-c9ea-4f08c30b2f66"
      },
      "source": [
        "num, total = 0, 0\n",
        "for i in range(0, len(pred_labels)):\n",
        "  for pred, target in zip(pred_labels[i], valid_target[i]):\n",
        "    # 고정으로 들어가 있는 [CLS], [SEP] 는 제외함\n",
        "    if (pred == '[CLS]' and target == '[CLS]') or (pred == '[SEP]' and target == '[SEP]'):\n",
        "      continue\n",
        "    if pred == target:\n",
        "      num +=1\n",
        "  total += len(pred_labels[i])-2 # [CLS], [SEP] 태그 수 빼기\n",
        "\n",
        "print(\"Accuracy : \", num/total*100,\"%\")"
      ],
      "execution_count": null,
      "outputs": [
        {
          "output_type": "stream",
          "text": [
            "Accuracy :  92.38425234482347 %\n"
          ],
          "name": "stdout"
        }
      ]
    },
    {
      "cell_type": "markdown",
      "metadata": {
        "id": "8ZTZpecbRtBv"
      },
      "source": [
        "# **Testing**\n",
        "임의의 문장이 모델을 통과한 결과를 가공하여 출력 형태를 맞춘 후, 올바르게 분석되는지 확인합니다. "
      ]
    },
    {
      "cell_type": "markdown",
      "metadata": {
        "id": "BtW5h2Cb8Oef"
      },
      "source": [
        "#### **입력 문장에 대한 전처리**\n",
        "학습 데이터 중 Input data에 대한 전처리 과정과 동일합니다."
      ]
    },
    {
      "cell_type": "code",
      "metadata": {
        "id": "RS3KQXlORt9Y"
      },
      "source": [
        "# 입력 데이터 전처리\n",
        "def convert_input_data(sentences):\n",
        "    text_CLS = [\"[CLS] \" + str(txt) + \" [SEP]\" for txt in sentences]\n",
        "    tokenizer = KoBertTokenizer.from_pretrained('monologg/kobert')\n",
        "    # 토크나이징\n",
        "    tokenized_texts = [tokenizer.tokenize(sent) for sent in text_CLS]\n",
        "    MAX_LEN = 128 # MAX_LEN 설정\n",
        "    # 임베딩 및 패딩 진행\n",
        "    input_ids = [tokenizer.convert_tokens_to_ids(x) for x in tokenized_texts]\n",
        "    input_ids = pad_sequences(input_ids, maxlen=MAX_LEN, dtype=\"long\", truncating=\"post\", padding=\"post\")\n",
        "    # 어텐션 마스크 설정\n",
        "    attention_masks = []\n",
        "    for seq in input_ids:\n",
        "        seq_mask = [float(i>0) for i in seq]\n",
        "        attention_masks.append(seq_mask)\n",
        "    # 데이터를 파이토치의 텐서로 변환\n",
        "    inputs = torch.tensor(input_ids)\n",
        "    masks = torch.tensor(attention_masks)\n",
        "\n",
        "    return inputs, masks"
      ],
      "execution_count": null,
      "outputs": []
    },
    {
      "cell_type": "markdown",
      "metadata": {
        "id": "0HNoTcMy8Sre"
      },
      "source": [
        "#### **모델 통과 및 결과 가공 수행**"
      ]
    },
    {
      "cell_type": "code",
      "metadata": {
        "id": "UAuWPnrMS9Wu"
      },
      "source": [
        "# 문장 테스트\n",
        "def test_sentences(sentences):\n",
        "    stopFlag = False\n",
        "    tokenizer = KoBertTokenizer.from_pretrained('monologg/kobert')\n",
        "    # 평가모드로 변경\n",
        "    model.eval()\n",
        "    # 문장을 입력 데이터로 변환\n",
        "    inputs, masks = convert_input_data(sentences)\n",
        "    if torch.cuda.is_available():    \n",
        "        device = torch.device(\"cuda\")\n",
        "    else:\n",
        "        device = torch.device(\"cpu\")\n",
        "\n",
        "    # 데이터를 GPU에 넣음\n",
        "    b_input_ids = inputs.to(device)\n",
        "    b_input_mask = masks.to(device)\n",
        "            \n",
        "    # 그래디언트 계산 안함\n",
        "    with torch.no_grad():     \n",
        "        # Forward 수행\n",
        "        outputs = model(b_input_ids, \n",
        "                        token_type_ids=None, \n",
        "                        attention_mask=b_input_mask\n",
        "                        )\n",
        "    logits = np.argmax(outputs[0].to('cpu').numpy(), axis=2)\n",
        "    \n",
        "    # join bpe split tokens\n",
        "    tokens = tokenizer.convert_ids_to_tokens(b_input_ids.to('cpu').numpy()[0])\n",
        "    new_tokens, new_labels = [], []\n",
        "    for token, label_idx in zip(tokens, logits[0]):\n",
        "        if stopFlag == True:\n",
        "          break\n",
        "        if token == '[SEP]': # 패딩 전까지의 출력만을 보기 위해\n",
        "          stopFlag = True\n",
        "        new_labels.append(tag_dict_decode[label_idx])\n",
        "        new_tokens.append(token)\n",
        "\n",
        "    # return logits\n",
        "    return new_labels, new_tokens"
      ],
      "execution_count": null,
      "outputs": []
    },
    {
      "cell_type": "markdown",
      "metadata": {
        "id": "amR7C5frwSHK"
      },
      "source": [
        "#### **결과 확인**"
      ]
    },
    {
      "cell_type": "code",
      "metadata": {
        "id": "UdvlGctTIGHV",
        "colab": {
          "base_uri": "https://localhost:8080/"
        },
        "outputId": "07dd5e3c-8566-40a7-c142-399242b30ec3"
      },
      "source": [
        "input_text = '상명대학교의 송재우는 두레미담에서 11시 30분에 점심을 먹었다.'\n",
        "new_label, new_token = test_sentences([input_text])\n",
        "\n",
        "for token, label in zip(new_token, new_label): \n",
        "    print(\"{}\\t{}\".format(label, token))"
      ],
      "execution_count": null,
      "outputs": [
        {
          "output_type": "stream",
          "text": [
            "[CLS]\t[CLS]\n",
            "B-ORG\t▁상\n",
            "I-ORG\t명\n",
            "I-ORG\t대학교\n",
            "O\t의\n",
            "B-PER\t▁송\n",
            "I-PER\t재\n",
            "I-PER\t우는\n",
            "B-POH\t▁두\n",
            "I-POH\t레\n",
            "I-POH\t미\n",
            "I-POH\t담\n",
            "O\t에서\n",
            "B-TIM\t▁11\n",
            "I-TIM\t시\n",
            "I-TIM\t▁30\n",
            "I-TIM\t분\n",
            "O\t에\n",
            "O\t▁점\n",
            "O\t심을\n",
            "O\t▁먹\n",
            "O\t었다\n",
            "[SEP]\t.\n",
            "[SEP]\t[SEP]\n"
          ],
          "name": "stdout"
        }
      ]
    },
    {
      "cell_type": "code",
      "metadata": {
        "colab": {
          "base_uri": "https://localhost:8080/"
        },
        "id": "3HMidYrQkAP1",
        "outputId": "a4aeb18d-1927-450f-da2e-213140d0695e"
      },
      "source": [
        "input_text = '여기가 지금 스타벅스 광화문점인데 불이 갑자기 났거든요? 얼른 와주세요'\n",
        "new_label, new_token = test_sentences([input_text])\n",
        "\n",
        "for token, label in zip(new_token, new_label): \n",
        "    print(\"{}\\t{}\".format(label, token))"
      ],
      "execution_count": null,
      "outputs": [
        {
          "output_type": "stream",
          "text": [
            "[CLS]\t[CLS]\n",
            "O\t▁여기\n",
            "O\t가\n",
            "O\t▁지금\n",
            "B-ORG\t▁스타\n",
            "I-ORG\t벅\n",
            "I-ORG\t스\n",
            "B-LOC\t▁광\n",
            "I-LOC\t화\n",
            "I-LOC\t문\n",
            "I-LOC\t점\n",
            "O\t인데\n",
            "B-EMR\t▁불\n",
            "I-EMR\t이\n",
            "I-EMR\t▁갑자기\n",
            "I-EMR\t▁\n",
            "I-EMR\t났\n",
            "I-EMR\t거\n",
            "I-EMR\t든\n",
            "I-EMR\t요\n",
            "O\t?\n",
            "O\t▁\n",
            "O\t얼\n",
            "O\t른\n",
            "O\t▁\n",
            "O\t와\n",
            "O\t주세요\n",
            "[SEP]\t[SEP]\n"
          ],
          "name": "stdout"
        }
      ]
    }
  ]
}